{
  "cells": [
    {
      "cell_type": "markdown",
      "metadata": {
        "id": "view-in-github",
        "colab_type": "text"
      },
      "source": [
        "<a href=\"https://colab.research.google.com/github/AdrienBelanger/451-Project/blob/main/Saca_el_m%C3%A1ximo_partido_de_tu_suscripci%C3%B3n_a_Colab.ipynb\" target=\"_parent\"><img src=\"https://colab.research.google.com/assets/colab-badge.svg\" alt=\"Open In Colab\"/></a>"
      ]
    },
    {
      "cell_type": "markdown",
      "source": [
        "# IMPORTS"
      ],
      "metadata": {
        "id": "IL2bSzeH4F1x"
      }
    },
    {
      "cell_type": "code",
      "source": [
        "import numpy as np\n",
        "import yfinance as yf\n",
        "\n",
        "from sklearn.preprocessing import MinMaxScaler\n",
        "from sklearn.model_selection import train_test_split\n",
        "from sklearn.metrics import accuracy_score, confusion_matrix\n",
        "\n",
        "from tensorflow.keras.models import Model\n",
        "from tensorflow.keras.layers import (Input, Dense, Dropout, LayerNormalization,\n",
        "                                     MultiHeadAttention, Flatten, Add)\n",
        "from tensorflow.keras.optimizers import Adam\n",
        "import tensorflow as tf\n",
        "\n",
        "import matplotlib.pyplot as plt"
      ],
      "metadata": {
        "id": "BHW21iTv4FTh"
      },
      "execution_count": 2,
      "outputs": []
    },
    {
      "cell_type": "markdown",
      "source": [
        "# Get Data from Yahoo Fiance (Same as Adrien)\n",
        "\n"
      ],
      "metadata": {
        "id": "qlHWn7nR4T1e"
      }
    },
    {
      "cell_type": "code",
      "source": [
        "dfs = {}  # Dictionary to store data for each ticker\n",
        "tickers = ['^GSPC']  # S&P 500 index ticker\n",
        "\n",
        "for ticker in tickers:\n",
        "    cur_data = yf.Ticker(ticker)\n",
        "    hist = cur_data.history(period=\"max\")\n",
        "    print(ticker, cur_data.info['shortName'], ticker, hist.shape, hist.index.min(), hist.index.max())\n",
        "    dfs[ticker] = hist"
      ],
      "metadata": {
        "id": "yCT-9U924bC5",
        "outputId": "8d386c3b-9410-4713-ba08-ce9bf88e06b2",
        "colab": {
          "base_uri": "https://localhost:8080/"
        }
      },
      "execution_count": 3,
      "outputs": [
        {
          "output_type": "stream",
          "name": "stdout",
          "text": [
            "^GSPC S&P 500 ^GSPC (24346, 7) 1927-12-30 00:00:00-05:00 2024-11-29 00:00:00-05:00\n"
          ]
        }
      ]
    },
    {
      "cell_type": "markdown",
      "source": [
        "# Hyperparameters (Same as Adrien)"
      ],
      "metadata": {
        "id": "x-Vc3-nL4pxf"
      }
    },
    {
      "cell_type": "code",
      "source": [
        "# Hyperparameters\n",
        "SEQUENCE_LENGTH = 15  # Length of the input sequence\n",
        "TEST_SIZE = 0.2  # Proportion of the dataset to include in the test split\n",
        "EPOCHS = 20  # Number of training epochs\n",
        "BATCH_SIZE = 20  # Batch size during training\n",
        "SHIFT_DAYS = 3  # Days ahead to predict market crashes\n"
      ],
      "metadata": {
        "id": "PzcNaF6O4y8Y"
      },
      "execution_count": 4,
      "outputs": []
    },
    {
      "cell_type": "markdown",
      "source": [
        "Database Creatation (Same as Adrien)"
      ],
      "metadata": {
        "id": "w3q0N4Ii43mS"
      }
    },
    {
      "cell_type": "code",
      "source": [
        "def calculate_drawdown_and_label(data, quantile_threshold=0.005):\n",
        "    data['daily_return'] = data['Close'].pct_change()\n",
        "    data['drawdown'] = data['Close'] / data['Close'].cummax() - 1\n",
        "    crash_threshold = data['drawdown'].quantile(quantile_threshold)\n",
        "    data['crash_label'] = (data['drawdown'] < crash_threshold).astype(int)\n",
        "    return data\n",
        "\n",
        "def prepare_target(data, shift_days=3):\n",
        "    data['target'] = data['crash_label'].shift(-shift_days)\n",
        "    data = data.dropna(subset=['target'])\n",
        "    data['target'] = data['target'].astype(int)\n",
        "    return data\n",
        "\n",
        "for ticker, data in dfs.items():\n",
        "    data = calculate_drawdown_and_label(data)\n",
        "    data = prepare_target(data, SHIFT_DAYS)\n",
        "    dfs[ticker] = data"
      ],
      "metadata": {
        "id": "o35oiHWn5FYs",
        "outputId": "edc39074-71a5-48d6-828e-30c75aa7598b",
        "colab": {
          "base_uri": "https://localhost:8080/"
        }
      },
      "execution_count": 5,
      "outputs": [
        {
          "output_type": "stream",
          "name": "stderr",
          "text": [
            "<ipython-input-5-1e35cc528317>:11: SettingWithCopyWarning: \n",
            "A value is trying to be set on a copy of a slice from a DataFrame.\n",
            "Try using .loc[row_indexer,col_indexer] = value instead\n",
            "\n",
            "See the caveats in the documentation: https://pandas.pydata.org/pandas-docs/stable/user_guide/indexing.html#returning-a-view-versus-a-copy\n",
            "  data['target'] = data['target'].astype(int)\n"
          ]
        }
      ]
    },
    {
      "cell_type": "markdown",
      "source": [
        "# Preprocesing (Same as Adrien)"
      ],
      "metadata": {
        "id": "w64i7ddV5MMB"
      }
    },
    {
      "cell_type": "code",
      "source": [
        "def preprocess_data_for_transformer(data, sequence_length=15):\n",
        "    scaler = MinMaxScaler(feature_range=(0, 1))\n",
        "    scaled_data = scaler.fit_transform(data[['Close', 'daily_return', 'drawdown']].dropna())\n",
        "\n",
        "    X = []\n",
        "    y = []\n",
        "\n",
        "    for i in range(len(scaled_data) - sequence_length):\n",
        "        days = scaled_data[i:i+sequence_length]\n",
        "        X.append(days)\n",
        "        y.append(data['target'].iloc[i + sequence_length])\n",
        "\n",
        "    X = np.array(X)\n",
        "    y = np.array(y)\n",
        "\n",
        "    y = y[~np.isnan(y)]\n",
        "    X = X[:len(y)]\n",
        "    return X, y, scaler\n",
        "\n",
        "sequence_length = SEQUENCE_LENGTH\n",
        "X = {}\n",
        "y = {}\n",
        "scalers = {}\n",
        "for ticker, data in dfs.items():\n",
        "    X[ticker], y[ticker], scalers[ticker] = preprocess_data_for_transformer(data, sequence_length=sequence_length)\n",
        "\n",
        "X_all = np.concatenate([X[ticker] for ticker in X], axis=0)\n",
        "y_all = np.concatenate([y[ticker] for ticker in y], axis=0)\n",
        "\n",
        "X_train, X_test, y_train, y_test = train_test_split(X_all, y_all, test_size=TEST_SIZE, random_state=42)"
      ],
      "metadata": {
        "id": "tlEmqO6H5Mkz"
      },
      "execution_count": 6,
      "outputs": []
    },
    {
      "cell_type": "markdown",
      "source": [
        "# Model Transformers"
      ],
      "metadata": {
        "id": "seiBxQym5mrg"
      }
    },
    {
      "cell_type": "code",
      "source": [
        "def positional_encoding(sequence_length, d_model):\n",
        "    position = np.arange(sequence_length)[:, np.newaxis]\n",
        "    div_term = np.exp(np.arange(0, d_model, 2) * (-np.log(10000.0) / d_model))\n",
        "    pe = np.zeros((sequence_length, d_model))\n",
        "    pe[:, 0::2] = np.sin(position * div_term)\n",
        "    pe[:, 1::2] = np.cos(position * div_term)\n",
        "    pe = pe[np.newaxis, ...]\n",
        "    return tf.cast(pe, dtype=tf.float32)\n",
        "\n",
        "def transformer_model(input_shape, num_heads=2, embed_dim=32, ff_dim=64):\n",
        "    inputs = Input(shape=input_shape)\n",
        "    x = inputs\n",
        "\n",
        "    x = Dense(embed_dim)(x)\n",
        "\n",
        "    sequence_length = input_shape[0]\n",
        "    positional_encoding_layer = positional_encoding(sequence_length, embed_dim)\n",
        "    x = x + positional_encoding_layer\n",
        "\n",
        "    attention_output = MultiHeadAttention(num_heads=num_heads, key_dim=embed_dim // num_heads)(x, x)\n",
        "    attention_output = Add()([attention_output, x])\n",
        "    attention_output = LayerNormalization(epsilon=1e-6)(attention_output)\n",
        "\n",
        "    ffn_output = Dense(ff_dim, activation='relu')(attention_output)\n",
        "    ffn_output = Dense(embed_dim)(ffn_output)\n",
        "    ffn_output = Add()([ffn_output, attention_output])\n",
        "    ffn_output = LayerNormalization(epsilon=1e-6)(ffn_output)\n",
        "\n",
        "    flatten = Flatten()(ffn_output)\n",
        "    outputs = Dense(1, activation='sigmoid')(flatten)\n",
        "\n",
        "    model = Model(inputs=inputs, outputs=outputs)\n",
        "    model.compile(optimizer=Adam(), loss='binary_crossentropy', metrics=['accuracy'])\n",
        "    return model"
      ],
      "metadata": {
        "id": "OPl9XM8m5nC0"
      },
      "execution_count": 7,
      "outputs": []
    },
    {
      "cell_type": "markdown",
      "source": [
        "# Training"
      ],
      "metadata": {
        "id": "KB7NlKqx5rz_"
      }
    },
    {
      "cell_type": "code",
      "source": [
        "input_shape = (X_train.shape[1], X_train.shape[2])\n",
        "model = transformer_model(input_shape)\n",
        "\n",
        "history = model.fit(X_train, y_train, epochs=EPOCHS, batch_size=BATCH_SIZE, validation_data=(X_test, y_test))"
      ],
      "metadata": {
        "id": "xiVaiPUK5vhz",
        "outputId": "2b33e1cd-c936-4df7-c409-e366db939b22",
        "colab": {
          "base_uri": "https://localhost:8080/"
        }
      },
      "execution_count": 8,
      "outputs": [
        {
          "output_type": "stream",
          "name": "stdout",
          "text": [
            "Epoch 1/20\n",
            "\u001b[1m974/974\u001b[0m \u001b[32m━━━━━━━━━━━━━━━━━━━━\u001b[0m\u001b[37m\u001b[0m \u001b[1m9s\u001b[0m 5ms/step - accuracy: 0.9951 - loss: 0.0287 - val_accuracy: 0.9949 - val_loss: 0.0106\n",
            "Epoch 2/20\n",
            "\u001b[1m974/974\u001b[0m \u001b[32m━━━━━━━━━━━━━━━━━━━━\u001b[0m\u001b[37m\u001b[0m \u001b[1m2s\u001b[0m 2ms/step - accuracy: 0.9950 - loss: 0.0177 - val_accuracy: 0.9990 - val_loss: 0.0043\n",
            "Epoch 3/20\n",
            "\u001b[1m974/974\u001b[0m \u001b[32m━━━━━━━━━━━━━━━━━━━━\u001b[0m\u001b[37m\u001b[0m \u001b[1m2s\u001b[0m 2ms/step - accuracy: 0.9964 - loss: 0.0088 - val_accuracy: 0.9969 - val_loss: 0.0060\n",
            "Epoch 4/20\n",
            "\u001b[1m974/974\u001b[0m \u001b[32m━━━━━━━━━━━━━━━━━━━━\u001b[0m\u001b[37m\u001b[0m \u001b[1m2s\u001b[0m 2ms/step - accuracy: 0.9975 - loss: 0.0072 - val_accuracy: 0.9963 - val_loss: 0.0089\n",
            "Epoch 5/20\n",
            "\u001b[1m974/974\u001b[0m \u001b[32m━━━━━━━━━━━━━━━━━━━━\u001b[0m\u001b[37m\u001b[0m \u001b[1m2s\u001b[0m 2ms/step - accuracy: 0.9965 - loss: 0.0072 - val_accuracy: 0.9969 - val_loss: 0.0070\n",
            "Epoch 6/20\n",
            "\u001b[1m974/974\u001b[0m \u001b[32m━━━━━━━━━━━━━━━━━━━━\u001b[0m\u001b[37m\u001b[0m \u001b[1m2s\u001b[0m 2ms/step - accuracy: 0.9983 - loss: 0.0050 - val_accuracy: 0.9967 - val_loss: 0.0114\n",
            "Epoch 7/20\n",
            "\u001b[1m974/974\u001b[0m \u001b[32m━━━━━━━━━━━━━━━━━━━━\u001b[0m\u001b[37m\u001b[0m \u001b[1m2s\u001b[0m 2ms/step - accuracy: 0.9978 - loss: 0.0065 - val_accuracy: 0.9994 - val_loss: 0.0021\n",
            "Epoch 8/20\n",
            "\u001b[1m974/974\u001b[0m \u001b[32m━━━━━━━━━━━━━━━━━━━━\u001b[0m\u001b[37m\u001b[0m \u001b[1m2s\u001b[0m 2ms/step - accuracy: 0.9979 - loss: 0.0054 - val_accuracy: 0.9965 - val_loss: 0.0116\n",
            "Epoch 9/20\n",
            "\u001b[1m974/974\u001b[0m \u001b[32m━━━━━━━━━━━━━━━━━━━━\u001b[0m\u001b[37m\u001b[0m \u001b[1m2s\u001b[0m 2ms/step - accuracy: 0.9978 - loss: 0.0050 - val_accuracy: 0.9969 - val_loss: 0.0055\n",
            "Epoch 10/20\n",
            "\u001b[1m974/974\u001b[0m \u001b[32m━━━━━━━━━━━━━━━━━━━━\u001b[0m\u001b[37m\u001b[0m \u001b[1m2s\u001b[0m 2ms/step - accuracy: 0.9982 - loss: 0.0047 - val_accuracy: 0.9994 - val_loss: 0.0022\n",
            "Epoch 11/20\n",
            "\u001b[1m974/974\u001b[0m \u001b[32m━━━━━━━━━━━━━━━━━━━━\u001b[0m\u001b[37m\u001b[0m \u001b[1m2s\u001b[0m 2ms/step - accuracy: 0.9979 - loss: 0.0046 - val_accuracy: 0.9984 - val_loss: 0.0033\n",
            "Epoch 12/20\n",
            "\u001b[1m974/974\u001b[0m \u001b[32m━━━━━━━━━━━━━━━━━━━━\u001b[0m\u001b[37m\u001b[0m \u001b[1m2s\u001b[0m 2ms/step - accuracy: 0.9977 - loss: 0.0057 - val_accuracy: 0.9994 - val_loss: 0.0020\n",
            "Epoch 13/20\n",
            "\u001b[1m974/974\u001b[0m \u001b[32m━━━━━━━━━━━━━━━━━━━━\u001b[0m\u001b[37m\u001b[0m \u001b[1m2s\u001b[0m 2ms/step - accuracy: 0.9981 - loss: 0.0044 - val_accuracy: 0.9994 - val_loss: 0.0029\n",
            "Epoch 14/20\n",
            "\u001b[1m974/974\u001b[0m \u001b[32m━━━━━━━━━━━━━━━━━━━━\u001b[0m\u001b[37m\u001b[0m \u001b[1m2s\u001b[0m 2ms/step - accuracy: 0.9980 - loss: 0.0048 - val_accuracy: 0.9990 - val_loss: 0.0026\n",
            "Epoch 15/20\n",
            "\u001b[1m974/974\u001b[0m \u001b[32m━━━━━━━━━━━━━━━━━━━━\u001b[0m\u001b[37m\u001b[0m \u001b[1m2s\u001b[0m 2ms/step - accuracy: 0.9971 - loss: 0.0060 - val_accuracy: 0.9988 - val_loss: 0.0031\n",
            "Epoch 16/20\n",
            "\u001b[1m974/974\u001b[0m \u001b[32m━━━━━━━━━━━━━━━━━━━━\u001b[0m\u001b[37m\u001b[0m \u001b[1m2s\u001b[0m 2ms/step - accuracy: 0.9979 - loss: 0.0054 - val_accuracy: 0.9988 - val_loss: 0.0032\n",
            "Epoch 17/20\n",
            "\u001b[1m974/974\u001b[0m \u001b[32m━━━━━━━━━━━━━━━━━━━━\u001b[0m\u001b[37m\u001b[0m \u001b[1m2s\u001b[0m 2ms/step - accuracy: 0.9982 - loss: 0.0041 - val_accuracy: 0.9988 - val_loss: 0.0031\n",
            "Epoch 18/20\n",
            "\u001b[1m974/974\u001b[0m \u001b[32m━━━━━━━━━━━━━━━━━━━━\u001b[0m\u001b[37m\u001b[0m \u001b[1m2s\u001b[0m 2ms/step - accuracy: 0.9987 - loss: 0.0039 - val_accuracy: 0.9994 - val_loss: 0.0024\n",
            "Epoch 19/20\n",
            "\u001b[1m974/974\u001b[0m \u001b[32m━━━━━━━━━━━━━━━━━━━━\u001b[0m\u001b[37m\u001b[0m \u001b[1m2s\u001b[0m 2ms/step - accuracy: 0.9981 - loss: 0.0049 - val_accuracy: 0.9988 - val_loss: 0.0027\n",
            "Epoch 20/20\n",
            "\u001b[1m974/974\u001b[0m \u001b[32m━━━━━━━━━━━━━━━━━━━━\u001b[0m\u001b[37m\u001b[0m \u001b[1m2s\u001b[0m 2ms/step - accuracy: 0.9979 - loss: 0.0058 - val_accuracy: 0.9994 - val_loss: 0.0019\n"
          ]
        }
      ]
    },
    {
      "cell_type": "markdown",
      "source": [
        "# Metrics (Same as Adrien)"
      ],
      "metadata": {
        "id": "X4oJ8c005zyX"
      }
    },
    {
      "cell_type": "code",
      "source": [
        "predictions_as_probabilities = model.predict(X_test)\n",
        "predictions_as_classes = (predictions_as_probabilities > 0.5).astype(int)\n",
        "\n",
        "accuracy = accuracy_score(y_test, predictions_as_classes)\n",
        "confusion_matrix_var = confusion_matrix(y_test, predictions_as_classes)\n",
        "\n",
        "print(f\"Test Accuracy: {accuracy}\")"
      ],
      "metadata": {
        "id": "HT8NC2-t52ZM",
        "outputId": "84803899-76c1-4731-9164-c56c4f5fc476",
        "colab": {
          "base_uri": "https://localhost:8080/"
        }
      },
      "execution_count": 9,
      "outputs": [
        {
          "output_type": "stream",
          "name": "stdout",
          "text": [
            "\u001b[1m153/153\u001b[0m \u001b[32m━━━━━━━━━━━━━━━━━━━━\u001b[0m\u001b[37m\u001b[0m \u001b[1m1s\u001b[0m 5ms/step\n",
            "Test Accuracy: 0.9993834771886559\n"
          ]
        }
      ]
    },
    {
      "cell_type": "markdown",
      "source": [
        "# Plotting (Same as Adrien)"
      ],
      "metadata": {
        "id": "tl97WN8l6Cm7"
      }
    },
    {
      "cell_type": "code",
      "source": [
        "real_crashes = int(sum(y_test == 1))\n",
        "predicted_crashes = int((predictions_as_classes == 1).sum())\n",
        "predicted_correctly = int(confusion_matrix_var[1, 1])\n",
        "missed_crashes = int(confusion_matrix_var[1, 0])\n",
        "predicted_when_there_wasnt = int(confusion_matrix_var[0, 1])\n",
        "\n",
        "categories = [\n",
        "    \"Actual Crashes\",\n",
        "    \"Predicted Crashes\",\n",
        "    \"Correctly Predicted Crashes\",\n",
        "    \"Missed Crashes\",\n",
        "    \"False Alarms\"\n",
        "]\n",
        "values = [\n",
        "    real_crashes,\n",
        "    predicted_crashes,\n",
        "    predicted_correctly,\n",
        "    missed_crashes,\n",
        "    predicted_when_there_wasnt,\n",
        "]\n",
        "\n",
        "plt.figure(figsize=(10, 6))\n",
        "bars = plt.bar(categories, values, color='orange')\n",
        "plt.title(\"Performance Analysis of the Transformer Model\")\n",
        "plt.ylabel(\"Total Crashes\")\n",
        "\n",
        "for bar in bars:\n",
        "    height = bar.get_height()\n",
        "    plt.text(bar.get_x() + bar.get_width() / 2.0, height, f'{height}', ha='center', va='bottom', fontsize=10)\n",
        "\n",
        "plt.tight_layout()\n",
        "plt.show()\n"
      ],
      "metadata": {
        "id": "UEELCnAG02_p",
        "outputId": "d446f3f9-1dce-403b-88db-1b5b98647200",
        "colab": {
          "base_uri": "https://localhost:8080/",
          "height": 607
        }
      },
      "execution_count": 10,
      "outputs": [
        {
          "output_type": "display_data",
          "data": {
            "text/plain": [
              "<Figure size 1000x600 with 1 Axes>"
            ],
            "image/png": "[encoded data removed]"
          },
          "metadata": {}
        }
      ]
    }
  ],
  "metadata": {
    "colab": {
      "name": "Saca el máximo partido de tu suscripción a Colab",
      "provenance": [],
      "machine_shape": "hm",
      "gpuType": "T4",
      "include_colab_link": true
    },
    "kernelspec": {
      "display_name": "Python 3",
      "name": "python3"
    },
    "accelerator": "GPU"
  },
  "nbformat": 4,
  "nbformat_minor": 0
}