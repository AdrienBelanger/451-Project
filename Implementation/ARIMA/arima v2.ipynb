{
 "cells": [
  {
   "cell_type": "markdown",
   "metadata": {},
   "source": [
    "## RNN Implementation"
   ]
  },
  {
   "cell_type": "markdown",
   "metadata": {},
   "source": [
    "#### Temporary, for convenience\n",
    "\n",
    "DECISIONS:\n",
    "1. Calculate the drawdown and assign days with drawdown in the 99.5% quantile as crash (i.e. label=1). \n",
    "2. The target is shift 3 days to make the problem as \"Predict if there will be a market crash 3 days later\".\n",
    "\n",
    "\n",
    "\n",
    "To-do: \n",
    "- More Plots?\n",
    "- Add data\n",
    "- more hyperparameter search\n",
    "- better accuracy\n",
    "\n"
   ]
  },
  {
   "cell_type": "markdown",
   "metadata": {},
   "source": [
    "### Data and imports   "
   ]
  },
  {
   "cell_type": "markdown",
   "metadata": {},
   "source": [
    "#### Imports"
   ]
  },
  {
   "cell_type": "code",
   "execution_count": null,
   "metadata": {},
   "outputs": [],
   "source": [
    "import numpy as np\n",
    "import yfinance as yf # to get our data\n",
    "\n",
    "\n",
    "from sklearn.preprocessing import MinMaxScaler # to normalize our classes\n",
    "from sklearn.model_selection import train_test_split # from tutorial code\n",
    "from sklearn.metrics import accuracy_score, confusion_matrix # needed for plotting\n",
    "from statsmodels.tsa.arima.model import ARIMA\n",
    "\n",
    "import matplotlib.pyplot as plt # for plotting\n",
    "\n",
    "import warnings\n",
    "warnings.filterwarnings(\"ignore\")"
   ]
  },
  {
   "cell_type": "markdown",
   "metadata": {},
   "source": [
    "#### Get Data from Yahoo Finance"
   ]
  },
  {
   "cell_type": "code",
   "execution_count": 2,
   "metadata": {},
   "outputs": [
    {
     "name": "stdout",
     "output_type": "stream",
     "text": [
      "^GSPC S&P 500 ^GSPC (24350, 7) 1927-12-30 00:00:00-05:00 2024-12-05 00:00:00-05:00\n"
     ]
    }
   ],
   "source": [
    "dfs = {} # Store all the data for our tickers, even though for now its just SP500\n",
    "tickers = ['^GSPC',] # Ticker (identifier) for the SP500, which is arguably the most influential, we start with just this\n",
    "\n",
    "# Got this code from https://www.kaggle.com/code/xxxxyyyy80008/predict-stock-market-crashes \n",
    "for ticker in tickers:\n",
    "    cur_data = yf.Ticker(ticker)\n",
    "    hist = cur_data.history(period=\"max\")\n",
    "    print(ticker, cur_data.info['shortName'], ticker, hist.shape, hist.index.min(), hist.index.max())\n",
    "    dfs[ticker] = hist"
   ]
  },
  {
   "cell_type": "markdown",
   "metadata": {},
   "source": [
    "### Database and Preprocessing"
   ]
  },
  {
   "cell_type": "markdown",
   "metadata": {},
   "source": [
    "#### Hyperparameters "
   ]
  },
  {
   "cell_type": "code",
   "execution_count": 3,
   "metadata": {},
   "outputs": [],
   "source": [
    "SEQUENCE_LENGTH = 15 # how large our window is\n",
    "TEST_SIZE = 0.2\n",
    "EPOCHS = 20\n",
    "BATCH_SIZE = 20\n",
    "SHIFT_DAYS = 3 # how far ahead we want to predict market crashes"
   ]
  },
  {
   "cell_type": "markdown",
   "metadata": {},
   "source": [
    "#### Database creation"
   ]
  },
  {
   "cell_type": "code",
   "execution_count": 4,
   "metadata": {},
   "outputs": [],
   "source": [
    "# Calculates how much the price has gone down from its highest point, labeling those with a 0.005 quantile as crashes as per directive 1\n",
    "# NOTE: got help from chatgpt for this function to find .pct_change, .cummax and .quantile\n",
    "def calculate_drawdown_and_label(data, quantile_threshold=0.005):\n",
    "\n",
    "    data['daily_return'] = data['Close'].pct_change()\n",
    "\n",
    "    data['drawdown'] = data['Close'] / data['Close'].cummax() - 1\n",
    "\n",
    "    crash_threshold = data['drawdown'].quantile(quantile_threshold)\n",
    "\n",
    "    data['crash_label'] = (data['drawdown'] < crash_threshold).astype(int)\n",
    "\n",
    "    return data\n",
    "\n",
    "## Make the data we targetted the target (nice), we try to predict the market crashes 3 days in advance so shift_days = 3\n",
    "def prepare_target(data, shift_days=3):\n",
    "    data['target'] = (data['crash_label']).astype(int).shift(-shift_days) # complicated line that basically takes our data with crash label, turns the bools into an int, then shift the values by 3 days to predict in advance, since we want to predict 3 days in advance\n",
    "    return data\n",
    "\n",
    "# prep the data\n",
    "for ticker, data in dfs.items():\n",
    "    data = calculate_drawdown_and_label(data) # get the drawdown for our data\n",
    "    data = prepare_target(data, SHIFT_DAYS)\n",
    "    dfs[ticker] = data\n",
    "\n",
    "\n",
    "# Database done\n"
   ]
  },
  {
   "cell_type": "markdown",
   "metadata": {},
   "source": [
    "#### Preprocessing"
   ]
  },
  {
   "cell_type": "code",
   "execution_count": 5,
   "metadata": {},
   "outputs": [],
   "source": [
    "def preprocess_data(data, sequence_length=15): # data is our data we\n",
    "\n",
    "    scaler = MinMaxScaler(feature_range=(0, 1))  # Normalize our features between 0 and 1 to make sure its all the same, since prices and dropdown are very much not all on scale.\n",
    "    scaled_data = scaler.fit_transform(data[['Close', 'daily_return', 'drawdown']].dropna()) # our simple features we defined before + the ones from hist, scale them and create. .dropna removes the rows that have features which are nan i.e. rows with missing features\n",
    "\n",
    "    X = []\n",
    "    y = []\n",
    "\n",
    "    for i in range(len(scaled_data) - sequence_length): # process data by sequences of days to learn. This is a window, so we go from one day to the next. for example, if we have day 1 to day 15 on iteration i, at iteration i + 1 we have day 2 to 16. this window is a single datapoint within a single minibatch.\n",
    "        days = scaled_data[i:i+sequence_length] # get the sequence of 15 days\n",
    "        X.append(days) # add to x the data as sequences of 15 days\n",
    "        y.append(data['target'].iloc[i + sequence_length]) # this is the target. It adds the value of the next sequence as the target, so we can predict future crashes\n",
    "\n",
    "    X = np.array(X) # turn into array for processing\n",
    "    y = np.array(y)\n",
    "     \n",
    "    \n",
    "    y = y[~np.isnan(y)]  # remove nan of the last few data points, since we shift by 3 days the last few points. i.e. for day 1, the target is day 4 for three days. so at the end of the seuquence wed get 3 empty datapoints. \n",
    "    X = X[:len(y)]  # cut those data points which had no y, i.e. the last few days\n",
    "    return X, y, scaler # return the scaler function to make sure when we process the test data and validation data, we can process the data before feeding it into our model\n",
    "\n",
    "\n",
    "\n",
    "\n",
    "# now we process our data, here we do as if we had multiple tickers, in case we add more later\n",
    "sequence_length = SEQUENCE_LENGTH # hyperparameter for the length of the window. 15 is completely arbirtrary here, need to adjust to get better or worst results.\n",
    "X = {} # data of all the tickers\n",
    "y = {} # labels of all the tickers\n",
    "scalers = {} # scalers of all the tickers\n",
    "for ticker, data in dfs.items(): #iterate through each ticker, datapoint and the dataframes (dfs) we got from yf, and preprocess them then add them to the dictionnary\n",
    "    X[ticker], y[ticker], scalers[ticker] = preprocess_data(data, sequence_length=sequence_length) \n",
    "\n",
    "# Combine data from all our tickers, joining them on axis 0 i.e. we want to concatenate all the rows together\n",
    "X_all = np.concatenate([X[ticker] for ticker in X], axis=0)\n",
    "y_all = np.concatenate([y[ticker] for ticker in y], axis=0) # same thing for labels\n",
    "\n",
    "# give 20% as test size, 80% for our training data. this functino was found in the tutorial ipynb\n",
    "X_train, X_test, y_train, y_test = train_test_split(X_all, y_all, test_size=TEST_SIZE, random_state=42)"
   ]
  },
  {
   "cell_type": "markdown",
   "metadata": {},
   "source": [
    "### ARIMA"
   ]
  },
  {
   "cell_type": "markdown",
   "metadata": {},
   "source": [
    "#### Model"
   ]
  },
  {
   "cell_type": "code",
   "execution_count": 6,
   "metadata": {},
   "outputs": [],
   "source": [
    "def forecast_arima(X_test, sequence_length, shift_days, threshold=0.005, p=5, d=1, q=0):\n",
    "    predictions = []\n",
    "\n",
    "    for i in range(len(X_test)):\n",
    "       # make sure we ge tonly the sequence length\n",
    "        if i + sequence_length > len(X_test):\n",
    "            break  \n",
    "        \n",
    "        train_sequence = X_test[i, :, 0]  \n",
    "\n",
    "        model = ARIMA(train_sequence, order=(p, q, d))  \n",
    "        model_fit = model.fit()\n",
    "\n",
    "        # clauclate the forecast on the next 3 days\n",
    "        forecast = model_fit.forecast(steps=shift_days)\n",
    "\n",
    "        # check the drawdown: NOTE: Got help\n",
    "        forecast_drawdown = (np.array(forecast) / max(train_sequence) - 1)\n",
    "        isit_crash = False\n",
    "        for dd in forecast_drawdown: # check if anything is lower than the threshold\n",
    "            if (dd < -threshold):\n",
    "                isit_crash = True\n",
    "                break\n",
    "        \n",
    "        predictions.append(1 if isit_crash == 1 else 0) # make it a crash if its 0\n",
    "\n",
    "    return predictions\n",
    "\n",
    "# Generate predictions on test data\n",
    "#predictions = forecast_arima(X_test, sequence_length=SEQUENCE_LENGTH, shift_days=SHIFT_DAYS)\n",
    "#confusion_matrix_var = confusion_matrix(y_test[:len(predictions)], predictions)"
   ]
  },
  {
   "cell_type": "markdown",
   "metadata": {},
   "source": [
    "### Testing for stationarity"
   ]
  },
  {
   "cell_type": "code",
   "execution_count": 14,
   "metadata": {},
   "outputs": [
    {
     "name": "stdout",
     "output_type": "stream",
     "text": [
      "ADF Statistic: 7.401900\n",
      "ADF p-value: 1.000000\n",
      "KPSS result: 0.01\n"
     ]
    }
   ],
   "source": [
    "from statsmodels.tsa.stattools import adfuller\n",
    "\n",
    "df = dfs['^GSPC']\n",
    "\n",
    "adf_test = adfuller(df['Close'])\n",
    "# Output the results\n",
    "print('ADF Statistic: %f' % adf_test[0])\n",
    "print('ADF p-value: %f' % adf_test[1])\n",
    "\n",
    "from statsmodels.tsa.stattools import kpss\n",
    "kpss_result = kpss(df['Close'])\n",
    "print(f'KPSS result: {kpss_result[1]}')"
   ]
  },
  {
   "cell_type": "markdown",
   "metadata": {},
   "source": [
    "From the ADF test and KPSS test result, our data is non-stationary, therefore the difference term $d$ is needed."
   ]
  },
  {
   "cell_type": "markdown",
   "metadata": {},
   "source": [
    "### PACF and ACF"
   ]
  },
  {
   "cell_type": "code",
   "execution_count": 13,
   "metadata": {},
   "outputs": [
    {
     "data": {
      "image/png": "[encoded data removed]",
      "text/plain": [
       "<Figure size 640x480 with 1 Axes>"
      ]
     },
     "metadata": {},
     "output_type": "display_data"
    },
    {
     "data": {
      "image/png": "[encoded data removed]",
      "text/plain": [
       "<Figure size 640x480 with 1 Axes>"
      ]
     },
     "metadata": {},
     "output_type": "display_data"
    }
   ],
   "source": [
    "from statsmodels.graphics.tsaplots import plot_acf, plot_pacf\n",
    "df = dfs['^GSPC']\n",
    "plot_pacf(df['Close'], lags=7)\n",
    "plot_acf(df['Close'], lags=7)\n",
    "plt.show()"
   ]
  },
  {
   "cell_type": "markdown",
   "metadata": {},
   "source": [
    "From PACF, we can choose either $p = 0$ or $p=1$. From ACF, it is hard to tell what should be the degree of $q$, so we will use a grid search on it."
   ]
  },
  {
   "cell_type": "markdown",
   "metadata": {},
   "source": [
    "### Grid search\n",
    "We will run grid search on $p\\in\\{0,1\\}, q\\in\\{0,1,2,3,4,5\\}, d\\in\\{1,2\\}$ to find out which set of hyperparameter will give the best accuracy."
   ]
  },
  {
   "cell_type": "code",
   "execution_count": null,
   "metadata": {},
   "outputs": [
    {
     "name": "stdout",
     "output_type": "stream",
     "text": [
      "Hyperparameter: p=0, d=1, q=0\n",
      "Accuracy: 0.010921079744487945\n",
      "Hyperparameter: p=0, d=1, q=1\n",
      "Accuracy: 0.3410261693797651\n",
      "Hyperparameter: p=0, d=1, q=2\n",
      "Accuracy: 0.37646816402225425\n",
      "Hyperparameter: p=0, d=1, q=3\n",
      "Accuracy: 0.3280445085514115\n",
      "Hyperparameter: p=0, d=1, q=4\n",
      "Accuracy: 0.35998351535132905\n",
      "Hyperparameter: p=0, d=1, q=5\n",
      "Accuracy: 0.41170410055635687\n",
      "Hyperparameter: p=0, d=2, q=0\n",
      "Accuracy: 0.009478672985781991\n",
      "Hyperparameter: p=0, d=2, q=1\n",
      "Accuracy: 0.2998145477024521\n",
      "Hyperparameter: p=0, d=2, q=2\n",
      "Accuracy: 0.37008036266227073\n",
      "Hyperparameter: p=0, d=2, q=3\n",
      "Accuracy: 0.3294869153101175\n",
      "Hyperparameter: p=0, d=2, q=4\n",
      "Accuracy: 0.3682258396867917\n",
      "Hyperparameter: p=0, d=2, q=5\n",
      "Accuracy: 0.4069647640634659\n",
      "Hyperparameter: p=1, d=1, q=0\n",
      "Accuracy: 0.06614465279208737\n",
      "Hyperparameter: p=1, d=1, q=1\n",
      "Accuracy: 0.33072326396043683\n",
      "Hyperparameter: p=1, d=1, q=2\n",
      "Accuracy: 0.3704924788790439\n",
      "Hyperparameter: p=1, d=1, q=3\n",
      "Accuracy: 0.3288687409849578\n",
      "Hyperparameter: p=1, d=1, q=4\n",
      "Accuracy: 0.33896558829589946\n",
      "Hyperparameter: p=1, d=1, q=5\n",
      "Accuracy: 0.37152276942097673\n",
      "Hyperparameter: p=1, d=2, q=0\n",
      "Accuracy: 0.0665567690088605\n",
      "Hyperparameter: p=1, d=2, q=1\n",
      "Accuracy: 0.297960024726973\n",
      "Hyperparameter: p=1, d=2, q=2\n",
      "Accuracy: 0.36781372347001856\n",
      "Hyperparameter: p=1, d=2, q=3\n",
      "Accuracy: 0.3241294044920668\n",
      "Hyperparameter: p=1, d=2, q=4\n",
      "Accuracy: 0.35483206264166495\n",
      "Hyperparameter: p=1, d=2, q=5\n",
      "Accuracy: 0.4022254275705749\n",
      "Hyperparameter: p=2, d=1, q=0\n",
      "Accuracy: 0.05336905007212034\n",
      "Hyperparameter: p=2, d=1, q=1\n",
      "Accuracy: 0.3080568720379147\n",
      "Hyperparameter: p=2, d=1, q=2\n",
      "Accuracy: 0.3597774572429425\n",
      "Hyperparameter: p=2, d=1, q=3\n",
      "Accuracy: 0.3309293220688234\n",
      "Hyperparameter: p=2, d=1, q=4\n",
      "Accuracy: 0.34308675046363074\n",
      "Hyperparameter: p=2, d=1, q=5\n",
      "Best hyperparameter: (2, 1, 4)\n",
      "Accuracy: 0\n"
     ]
    }
   ],
   "source": [
    "p, d, q = 0, 1, 0\n",
    "best_hyperparameter = (0, 1, 0)\n",
    "best_accuracy = 0\n",
    "try: \n",
    "    while p <= 2:\n",
    "        d = 1\n",
    "        while d <= 2:\n",
    "            q = 0\n",
    "            while q <= 5:\n",
    "                print(f'Hyperparameter: p={p}, d={d}, q={q}')\n",
    "                predictions = forecast_arima(X_test, sequence_length=SEQUENCE_LENGTH, shift_days=SHIFT_DAYS, p=p, d=d, q=q)\n",
    "                predictions_as_classes = np.array(predictions[:len(y_test)])\n",
    "                accuracy = accuracy_score(y_test[:len(predictions)], predictions_as_classes)\n",
    "                print(f'Accuracy: {accuracy}')\n",
    "                if accuracy > best_accuracy:\n",
    "                    best_hyperparameter = (p,d,q)\n",
    "                    best_accuracy = accuracy\n",
    "                q += 1\n",
    "            d += 1\n",
    "        p += 1\n",
    "except np.linalg.LinAlgError:\n",
    "    pass\n",
    "print(f'Best hyperparameter: {best_hyperparameter}')\n",
    "print(f'Accuracy: {best_accuracy}')\n"
   ]
  },
  {
   "cell_type": "markdown",
   "metadata": {},
   "source": [
    "From the grid search, the best hyperparameter is $p, d, q = 0, 1, 5$. With $41.17\\%$ of accuracy. Let's make run the model again with these hyperparameter."
   ]
  },
  {
   "cell_type": "code",
   "execution_count": 16,
   "metadata": {},
   "outputs": [
    {
     "name": "stdout",
     "output_type": "stream",
     "text": [
      "Accuracy: 0.41170410055635687\n"
     ]
    }
   ],
   "source": [
    "predictions = forecast_arima(X_test, sequence_length=SEQUENCE_LENGTH, shift_days=SHIFT_DAYS, p=0, d=1, q=5)\n",
    "predictions_as_classes = np.array(predictions[:len(y_test)])\n",
    "accuracy = accuracy_score(y_test[:len(predictions)], predictions_as_classes)\n",
    "print(f'Accuracy: {accuracy}')"
   ]
  },
  {
   "cell_type": "markdown",
   "metadata": {},
   "source": [
    "#### Plotting"
   ]
  },
  {
   "cell_type": "code",
   "execution_count": null,
   "metadata": {},
   "outputs": [
    {
     "data": {
      "image/png": "[encoded data removed]",
      "text/plain": [
       "<Figure size 1000x600 with 1 Axes>"
      ]
     },
     "metadata": {},
     "output_type": "display_data"
    }
   ],
   "source": [
    "confusion_matrix_var = confusion_matrix(y_test[:len(predictions)], predictions)\n",
    "real_crashes = int(sum(y_test == 1)) # crashes in our test data\n",
    "predicted_crashes = int((predictions_as_classes == 1).sum()) # crashes are 1 in our predictions\n",
    "predicted_correctly = int(confusion_matrix_var[1, 1])  # tp in our confusion matrix\n",
    "missed_crashes = int(confusion_matrix_var[1, 0])  # fn in our confusion matrix\n",
    "predicted_when_there_wasnt = int(confusion_matrix_var[0, 1])  # fp in our confusion matrix\n",
    "\n",
    "categories = [\n",
    "    \"Actual Crashes\",\n",
    "    \"Predicted Crashes\",\n",
    "    \"Correctly predicted Crashes\",\n",
    "    \"Missed Crashes\",\n",
    "    \"False alarms\"\n",
    "]\n",
    "values = [\n",
    "    real_crashes,\n",
    "    predicted_crashes,\n",
    "    predicted_correctly,\n",
    "    missed_crashes,\n",
    "    predicted_when_there_wasnt,\n",
    "]\n",
    "\n",
    "\n",
    "plt.figure(figsize=(10, 6))\n",
    "bars = plt.bar(categories, values, color='orange')\n",
    "plt.title(\"Performance Analysis of our ARIMA\")\n",
    "plt.ylabel(\"Total crashes\")\n",
    "\n",
    "for bar in bars:\n",
    "    height = bar.get_height()\n",
    "    plt.text(bar.get_x() + bar.get_width() / 2.0, height, f'{height}', ha='center', va='bottom', fontsize=10)\n",
    "\n",
    "plt.tight_layout()\n",
    "plt.show()\n"
   ]
  },
  {
   "cell_type": "markdown",
   "metadata": {},
   "source": [
    "We can see that the accuracy is not high with lots of false alarms"
   ]
  },
  {
   "cell_type": "markdown",
   "metadata": {},
   "source": [
    "### Experiments with day shifts and sliding windows\n",
    "We are going to test the arima model with different day shifts on the data and sliding windows.\n",
    "1.\n",
    "2."
   ]
  }
 ],
 "metadata": {
  "kernelspec": {
   "display_name": ".venv",
   "language": "python",
   "name": "python3"
  },
  "language_info": {
   "codemirror_mode": {
    "name": "ipython",
    "version": 3
   },
   "file_extension": ".py",
   "mimetype": "text/x-python",
   "name": "python",
   "nbconvert_exporter": "python",
   "pygments_lexer": "ipython3",
   "version": "3.10.7"
  }
 },
 "nbformat": 4,
 "nbformat_minor": 2
}
