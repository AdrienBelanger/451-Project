{
 "cells": [
  {
   "cell_type": "markdown",
   "metadata": {
    "colab_type": "text",
    "id": "view-in-github"
   },
   "source": [
    "<a href=\"https://colab.research.google.com/github/AdrienBelanger/451-Project/blob/main/Tranformers(Inigo).ipynb\" target=\"_parent\"><img src=\"https://colab.research.google.com/assets/colab-badge.svg\" alt=\"Open In Colab\"/></a>"
   ]
  },
  {
   "cell_type": "markdown",
   "metadata": {
    "id": "IL2bSzeH4F1x"
   },
   "source": [
    "# IMPORTS"
   ]
  },
  {
   "cell_type": "code",
   "execution_count": 1,
   "metadata": {
    "id": "BHW21iTv4FTh"
   },
   "outputs": [],
   "source": [
    "import numpy as np\n",
    "import yfinance as yf\n",
    "\n",
    "from sklearn.preprocessing import MinMaxScaler\n",
    "from sklearn.model_selection import train_test_split\n",
    "from sklearn.metrics import accuracy_score, confusion_matrix\n",
    "\n",
    "from tensorflow.keras.models import Model\n",
    "from tensorflow.keras.layers import (Input, Dense, Dropout, LayerNormalization,\n",
    "                                     MultiHeadAttention, Flatten, Add)\n",
    "from tensorflow.keras.optimizers import Adam\n",
    "import tensorflow as tf\n",
    "\n",
    "import matplotlib.pyplot as plt"
   ]
  },
  {
   "cell_type": "markdown",
   "metadata": {
    "id": "qlHWn7nR4T1e"
   },
   "source": [
    "# Get Data from Yahoo Fiance (Same as Adrien)\n",
    "\n"
   ]
  },
  {
   "cell_type": "code",
   "execution_count": 2,
   "metadata": {
    "colab": {
     "base_uri": "https://localhost:8080/"
    },
    "id": "yCT-9U924bC5",
    "outputId": "511c1302-0ac7-4b94-c7d7-cab4f76c26e2"
   },
   "outputs": [
    {
     "name": "stdout",
     "output_type": "stream",
     "text": [
      "^GSPC S&P 500 ^GSPC (24351, 7) 1927-12-30 00:00:00-05:00 2024-12-06 00:00:00-05:00\n"
     ]
    }
   ],
   "source": [
    "dfs = {}  # Dictionary to store data for each ticker\n",
    "tickers = ['^GSPC']  # S&P 500 index ticker\n",
    "\n",
    "for ticker in tickers:\n",
    "    cur_data = yf.Ticker(ticker)\n",
    "    hist = cur_data.history(period=\"max\")\n",
    "    print(ticker, cur_data.info['shortName'], ticker, hist.shape, hist.index.min(), hist.index.max())\n",
    "    dfs[ticker] = hist"
   ]
  },
  {
   "cell_type": "markdown",
   "metadata": {
    "id": "x-Vc3-nL4pxf"
   },
   "source": [
    "# Hyperparameters (Same as Adrien)"
   ]
  },
  {
   "cell_type": "code",
   "execution_count": 3,
   "metadata": {
    "id": "PzcNaF6O4y8Y"
   },
   "outputs": [],
   "source": [
    "SEQUENCE_LENGTH = 15  # Length of the input sequence\n",
    "TEST_SIZE = 0.2  # Proportion of the dataset to include in the test split\n",
    "EPOCHS = 20  # Number of training epochs\n",
    "BATCH_SIZE = 20  # Batch size during training\n",
    "SHIFT_DAYS = 3  # Days ahead to predict market crashes"
   ]
  },
  {
   "cell_type": "markdown",
   "metadata": {
    "id": "w3q0N4Ii43mS"
   },
   "source": [
    "# Database Creatation (Same as Adrien)"
   ]
  },
  {
   "cell_type": "code",
   "execution_count": 4,
   "metadata": {
    "id": "o35oiHWn5FYs"
   },
   "outputs": [],
   "source": [
    "def calculate_drawdown_and_label(data, quantile_threshold=0.005):\n",
    "\n",
    "    data['daily_return'] = data['Close'].pct_change()\n",
    "\n",
    "    data['drawdown'] = data['Close'] / data['Close'].cummax() - 1\n",
    "\n",
    "    crash_threshold = data['drawdown'].quantile(quantile_threshold)\n",
    "\n",
    "    data['crash_label'] = (data['drawdown'] < crash_threshold).astype(int)\n",
    "\n",
    "    return data\n",
    "\n",
    "## Make the data we targetted the target (nice), we try to predict the market crashes 3 days in advance so shift_days = 3\n",
    "def prepare_target(data, shift_days=3):\n",
    "    data['target'] = (data['crash_label']).astype(int).shift(-shift_days) # complicated line that basically takes our data with crash label, turns the bools into an int, then shift the values by 3 days to predict in advance, since we want to rpedict 3 days in advance\n",
    "    return data\n",
    "\n",
    "# prep the data\n",
    "for ticker, data in dfs.items():\n",
    "    data = calculate_drawdown_and_label(data) # get the drawdown for our data\n",
    "    data = prepare_target(data, SHIFT_DAYS)\n",
    "    dfs[ticker] = data"
   ]
  },
  {
   "cell_type": "markdown",
   "metadata": {
    "id": "w64i7ddV5MMB"
   },
   "source": [
    "# Preprocesing (Same as Adrien)"
   ]
  },
  {
   "cell_type": "code",
   "execution_count": 5,
   "metadata": {
    "id": "tlEmqO6H5Mkz"
   },
   "outputs": [],
   "source": [
    "def preprocess_data_for_transformer(data, sequence_length=15):\n",
    "    scaler = MinMaxScaler(feature_range=(0, 1))\n",
    "    scaled_data = scaler.fit_transform(data[['Close', 'daily_return', 'drawdown']].dropna())\n",
    "\n",
    "    X = []\n",
    "    y = []\n",
    "\n",
    "    for i in range(len(scaled_data) - sequence_length):\n",
    "        days = scaled_data[i:i+sequence_length]\n",
    "        X.append(days)\n",
    "        y.append(data['target'].iloc[i + sequence_length])\n",
    "\n",
    "    X = np.array(X)\n",
    "    y = np.array(y)\n",
    "\n",
    "    y = y[~np.isnan(y)]\n",
    "    X = X[:len(y)]\n",
    "    return X, y, scaler\n",
    "\n",
    "sequence_length = SEQUENCE_LENGTH\n",
    "X = {}\n",
    "y = {}\n",
    "scalers = {}\n",
    "for ticker, data in dfs.items():\n",
    "    X[ticker], y[ticker], scalers[ticker] = preprocess_data_for_transformer(data, sequence_length=sequence_length)\n",
    "\n",
    "X_all = np.concatenate([X[ticker] for ticker in X], axis=0)\n",
    "y_all = np.concatenate([y[ticker] for ticker in y], axis=0)\n",
    "\n",
    "X_train, X_test, y_train, y_test = train_test_split(X_all, y_all, test_size=TEST_SIZE, random_state=42)"
   ]
  },
  {
   "cell_type": "markdown",
   "metadata": {
    "id": "seiBxQym5mrg"
   },
   "source": [
    "# Model Transformers"
   ]
  },
  {
   "cell_type": "code",
   "execution_count": 6,
   "metadata": {
    "id": "OPl9XM8m5nC0"
   },
   "outputs": [],
   "source": [
    "def positional_encoding(sequence_length, d_model):\n",
    "    position = np.arange(sequence_length)[:, np.newaxis]\n",
    "    div_term = np.exp(np.arange(0, d_model, 2) * (-np.log(10000.0) / d_model))\n",
    "    pe = np.zeros((sequence_length, d_model))\n",
    "    pe[:, 0::2] = np.sin(position * div_term)\n",
    "    pe[:, 1::2] = np.cos(position * div_term)\n",
    "    pe = pe[np.newaxis, ...]\n",
    "    return tf.cast(pe, dtype=tf.float32)\n",
    "\n",
    "def transformer_model(input_shape, num_heads=2, embed_dim=32, ff_dim=64):\n",
    "    inputs = Input(shape=input_shape)\n",
    "    x = inputs\n",
    "\n",
    "    x = Dense(embed_dim)(x)\n",
    "\n",
    "    sequence_length = input_shape[0]\n",
    "    positional_encoding_layer = positional_encoding(sequence_length, embed_dim)\n",
    "    x = x + positional_encoding_layer\n",
    "\n",
    "    attention_output = MultiHeadAttention(num_heads=num_heads, key_dim=embed_dim // num_heads)(x, x)\n",
    "    attention_output = Add()([attention_output, x])\n",
    "    attention_output = LayerNormalization(epsilon=1e-6)(attention_output)\n",
    "\n",
    "    ffn_output = Dense(ff_dim, activation='relu')(attention_output)\n",
    "    ffn_output = Dense(embed_dim)(ffn_output)\n",
    "    ffn_output = Add()([ffn_output, attention_output])\n",
    "    ffn_output = LayerNormalization(epsilon=1e-6)(ffn_output)\n",
    "\n",
    "    flatten = Flatten()(ffn_output)\n",
    "    outputs = Dense(1, activation='sigmoid')(flatten)\n",
    "\n",
    "    model = Model(inputs=inputs, outputs=outputs)\n",
    "    model.compile(optimizer=Adam(), loss='binary_crossentropy', metrics=['accuracy'])\n",
    "    return model"
   ]
  },
  {
   "cell_type": "markdown",
   "metadata": {
    "id": "KB7NlKqx5rz_"
   },
   "source": [
    "# Training"
   ]
  },
  {
   "cell_type": "code",
   "execution_count": 7,
   "metadata": {
    "colab": {
     "base_uri": "https://localhost:8080/"
    },
    "id": "xiVaiPUK5vhz",
    "outputId": "3cf7b5c5-16ec-48a9-bc54-7d772c2a88ca"
   },
   "outputs": [
    {
     "name": "stdout",
     "output_type": "stream",
     "text": [
      "Epoch 1/20\n",
      "\u001b[1m974/974\u001b[0m \u001b[32m━━━━━━━━━━━━━━━━━━━━\u001b[0m\u001b[37m\u001b[0m \u001b[1m5s\u001b[0m 3ms/step - accuracy: 0.9757 - loss: 0.0569 - val_accuracy: 0.9967 - val_loss: 0.0076\n",
      "Epoch 2/20\n",
      "\u001b[1m974/974\u001b[0m \u001b[32m━━━━━━━━━━━━━━━━━━━━\u001b[0m\u001b[37m\u001b[0m \u001b[1m4s\u001b[0m 4ms/step - accuracy: 0.9961 - loss: 0.0105 - val_accuracy: 0.9988 - val_loss: 0.0056\n",
      "Epoch 3/20\n",
      "\u001b[1m974/974\u001b[0m \u001b[32m━━━━━━━━━━━━━━━━━━━━\u001b[0m\u001b[37m\u001b[0m \u001b[1m5s\u001b[0m 5ms/step - accuracy: 0.9967 - loss: 0.0083 - val_accuracy: 0.9971 - val_loss: 0.0054\n",
      "Epoch 4/20\n",
      "\u001b[1m974/974\u001b[0m \u001b[32m━━━━━━━━━━━━━━━━━━━━\u001b[0m\u001b[37m\u001b[0m \u001b[1m5s\u001b[0m 5ms/step - accuracy: 0.9968 - loss: 0.0080 - val_accuracy: 0.9992 - val_loss: 0.0031\n",
      "Epoch 5/20\n",
      "\u001b[1m974/974\u001b[0m \u001b[32m━━━━━━━━━━━━━━━━━━━━\u001b[0m\u001b[37m\u001b[0m \u001b[1m4s\u001b[0m 4ms/step - accuracy: 0.9973 - loss: 0.0071 - val_accuracy: 0.9979 - val_loss: 0.0046\n",
      "Epoch 6/20\n",
      "\u001b[1m974/974\u001b[0m \u001b[32m━━━━━━━━━━━━━━━━━━━━\u001b[0m\u001b[37m\u001b[0m \u001b[1m4s\u001b[0m 4ms/step - accuracy: 0.9979 - loss: 0.0059 - val_accuracy: 0.9994 - val_loss: 0.0035\n",
      "Epoch 7/20\n",
      "\u001b[1m974/974\u001b[0m \u001b[32m━━━━━━━━━━━━━━━━━━━━\u001b[0m\u001b[37m\u001b[0m \u001b[1m5s\u001b[0m 5ms/step - accuracy: 0.9978 - loss: 0.0057 - val_accuracy: 0.9988 - val_loss: 0.0036\n",
      "Epoch 8/20\n",
      "\u001b[1m974/974\u001b[0m \u001b[32m━━━━━━━━━━━━━━━━━━━━\u001b[0m\u001b[37m\u001b[0m \u001b[1m5s\u001b[0m 5ms/step - accuracy: 0.9972 - loss: 0.0061 - val_accuracy: 0.9982 - val_loss: 0.0031\n",
      "Epoch 9/20\n",
      "\u001b[1m974/974\u001b[0m \u001b[32m━━━━━━━━━━━━━━━━━━━━\u001b[0m\u001b[37m\u001b[0m \u001b[1m5s\u001b[0m 5ms/step - accuracy: 0.9978 - loss: 0.0052 - val_accuracy: 0.9975 - val_loss: 0.0041\n",
      "Epoch 10/20\n",
      "\u001b[1m974/974\u001b[0m \u001b[32m━━━━━━━━━━━━━━━━━━━━\u001b[0m\u001b[37m\u001b[0m \u001b[1m5s\u001b[0m 5ms/step - accuracy: 0.9980 - loss: 0.0043 - val_accuracy: 0.9994 - val_loss: 0.0021\n",
      "Epoch 11/20\n",
      "\u001b[1m974/974\u001b[0m \u001b[32m━━━━━━━━━━━━━━━━━━━━\u001b[0m\u001b[37m\u001b[0m \u001b[1m5s\u001b[0m 5ms/step - accuracy: 0.9973 - loss: 0.0065 - val_accuracy: 0.9990 - val_loss: 0.0029\n",
      "Epoch 12/20\n",
      "\u001b[1m974/974\u001b[0m \u001b[32m━━━━━━━━━━━━━━━━━━━━\u001b[0m\u001b[37m\u001b[0m \u001b[1m5s\u001b[0m 5ms/step - accuracy: 0.9981 - loss: 0.0044 - val_accuracy: 0.9967 - val_loss: 0.0112\n",
      "Epoch 13/20\n",
      "\u001b[1m974/974\u001b[0m \u001b[32m━━━━━━━━━━━━━━━━━━━━\u001b[0m\u001b[37m\u001b[0m \u001b[1m4s\u001b[0m 4ms/step - accuracy: 0.9977 - loss: 0.0063 - val_accuracy: 0.9988 - val_loss: 0.0033\n",
      "Epoch 14/20\n",
      "\u001b[1m974/974\u001b[0m \u001b[32m━━━━━━━━━━━━━━━━━━━━\u001b[0m\u001b[37m\u001b[0m \u001b[1m4s\u001b[0m 4ms/step - accuracy: 0.9974 - loss: 0.0056 - val_accuracy: 0.9990 - val_loss: 0.0023\n",
      "Epoch 15/20\n",
      "\u001b[1m974/974\u001b[0m \u001b[32m━━━━━━━━━━━━━━━━━━━━\u001b[0m\u001b[37m\u001b[0m \u001b[1m5s\u001b[0m 5ms/step - accuracy: 0.9983 - loss: 0.0039 - val_accuracy: 0.9992 - val_loss: 0.0025\n",
      "Epoch 16/20\n",
      "\u001b[1m974/974\u001b[0m \u001b[32m━━━━━━━━━━━━━━━━━━━━\u001b[0m\u001b[37m\u001b[0m \u001b[1m5s\u001b[0m 5ms/step - accuracy: 0.9979 - loss: 0.0044 - val_accuracy: 0.9994 - val_loss: 0.0030\n",
      "Epoch 17/20\n",
      "\u001b[1m974/974\u001b[0m \u001b[32m━━━━━━━━━━━━━━━━━━━━\u001b[0m\u001b[37m\u001b[0m \u001b[1m6s\u001b[0m 6ms/step - accuracy: 0.9977 - loss: 0.0053 - val_accuracy: 0.9979 - val_loss: 0.0038\n",
      "Epoch 18/20\n",
      "\u001b[1m974/974\u001b[0m \u001b[32m━━━━━━━━━━━━━━━━━━━━\u001b[0m\u001b[37m\u001b[0m \u001b[1m6s\u001b[0m 6ms/step - accuracy: 0.9986 - loss: 0.0036 - val_accuracy: 0.9992 - val_loss: 0.0028\n",
      "Epoch 19/20\n",
      "\u001b[1m974/974\u001b[0m \u001b[32m━━━━━━━━━━━━━━━━━━━━\u001b[0m\u001b[37m\u001b[0m \u001b[1m5s\u001b[0m 5ms/step - accuracy: 0.9981 - loss: 0.0039 - val_accuracy: 0.9988 - val_loss: 0.0026\n",
      "Epoch 20/20\n",
      "\u001b[1m974/974\u001b[0m \u001b[32m━━━━━━━━━━━━━━━━━━━━\u001b[0m\u001b[37m\u001b[0m \u001b[1m7s\u001b[0m 7ms/step - accuracy: 0.9983 - loss: 0.0048 - val_accuracy: 0.9992 - val_loss: 0.0027\n"
     ]
    }
   ],
   "source": [
    "input_shape = (X_train.shape[1], X_train.shape[2])\n",
    "model = transformer_model(input_shape)\n",
    "\n",
    "history = model.fit(X_train, y_train, epochs=EPOCHS, batch_size=BATCH_SIZE, validation_data=(X_test, y_test))"
   ]
  },
  {
   "cell_type": "markdown",
   "metadata": {
    "id": "X4oJ8c005zyX"
   },
   "source": [
    "# Metrics (Same as Adrien)"
   ]
  },
  {
   "cell_type": "code",
   "execution_count": 8,
   "metadata": {
    "colab": {
     "base_uri": "https://localhost:8080/"
    },
    "id": "HT8NC2-t52ZM",
    "outputId": "889d4998-ebe4-47e4-e25c-cced408149f7"
   },
   "outputs": [
    {
     "name": "stdout",
     "output_type": "stream",
     "text": [
      "\u001b[1m153/153\u001b[0m \u001b[32m━━━━━━━━━━━━━━━━━━━━\u001b[0m\u001b[37m\u001b[0m \u001b[1m1s\u001b[0m 4ms/step\n",
      "Test Accuracy: 0.9991781384836655\n"
     ]
    }
   ],
   "source": [
    "predictions_as_probabilities = model.predict(X_test)\n",
    "predictions_as_classes = (predictions_as_probabilities > 0.5).astype(int)\n",
    "\n",
    "accuracy = accuracy_score(y_test, predictions_as_classes)\n",
    "confusion_matrix_var = confusion_matrix(y_test, predictions_as_classes)\n",
    "\n",
    "print(f\"Test Accuracy: {accuracy}\")"
   ]
  },
  {
   "cell_type": "markdown",
   "metadata": {
    "id": "tl97WN8l6Cm7"
   },
   "source": [
    "# Plotting (Same as Adrien)"
   ]
  },
  {
   "cell_type": "code",
   "execution_count": 9,
   "metadata": {
    "colab": {
     "base_uri": "https://localhost:8080/",
     "height": 607
    },
    "id": "UEELCnAG02_p",
    "outputId": "66ca9a1c-4f37-43f4-ee71-b61ef70c3f7f"
   },
   "outputs": [
    {
     "data": {
      "image/png": "[encoded data removed]",
      "text/plain": [
       "<Figure size 1000x600 with 1 Axes>"
      ]
     },
     "metadata": {},
     "output_type": "display_data"
    }
   ],
   "source": [
    "real_crashes = int(sum(y_test == 1))\n",
    "predicted_crashes = int((predictions_as_classes == 1).sum())\n",
    "predicted_correctly = int(confusion_matrix_var[1, 1])\n",
    "missed_crashes = int(confusion_matrix_var[1, 0])\n",
    "predicted_when_there_wasnt = int(confusion_matrix_var[0, 1])\n",
    "\n",
    "categories = [\n",
    "    \"Actual Crashes\",\n",
    "    \"Predicted Crashes\",\n",
    "    \"Correctly Predicted Crashes\",\n",
    "    \"Missed Crashes\",\n",
    "    \"False Alarms\"\n",
    "]\n",
    "values = [\n",
    "    real_crashes,\n",
    "    predicted_crashes,\n",
    "    predicted_correctly,\n",
    "    missed_crashes,\n",
    "    predicted_when_there_wasnt,\n",
    "]\n",
    "\n",
    "plt.figure(figsize=(10, 6))\n",
    "bars = plt.bar(categories, values, color='orange')\n",
    "plt.title(\"Performance Analysis of the Transformer Model\")\n",
    "plt.ylabel(\"Total Crashes\")\n",
    "\n",
    "for bar in bars:\n",
    "    height = bar.get_height()\n",
    "    plt.text(bar.get_x() + bar.get_width() / 2.0, height, f'{height}', ha='center', va='bottom', fontsize=10)\n",
    "\n",
    "plt.tight_layout()\n",
    "plt.show()\n"
   ]
  }
 ],
 "metadata": {
  "accelerator": "GPU",
  "colab": {
   "gpuType": "T4",
   "include_colab_link": true,
   "machine_shape": "hm",
   "name": "Saca el máximo partido de tu suscripción a Colab",
   "provenance": []
  },
  "kernelspec": {
   "display_name": "Python 3",
   "language": "python",
   "name": "python3"
  },
  "language_info": {
   "codemirror_mode": {
    "name": "ipython",
    "version": 3
   },
   "file_extension": ".py",
   "mimetype": "text/x-python",
   "name": "python",
   "nbconvert_exporter": "python",
   "pygments_lexer": "ipython3",
   "version": "3.10.7"
  }
 },
 "nbformat": 4,
 "nbformat_minor": 0
}
