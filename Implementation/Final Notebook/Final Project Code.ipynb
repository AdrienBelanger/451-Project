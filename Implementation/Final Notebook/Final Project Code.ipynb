{
 "cells": [
  {
   "cell_type": "markdown",
   "metadata": {},
   "source": [
    "# Empirical Review of Models for Predicting Financial Market Crashes Using Market Data\n",
    "## COMP 451: Final Project - Code, experiments and plots\n",
    "---\n",
    "\n",
    "\n",
    "Written by\n",
    "- Adrien Bélanger  \n",
    "- Inigo Torres  \n",
    "- Ping-Chieh Tu  \n",
    "\n",
    "---\n"
   ]
  },
  {
   "cell_type": "markdown",
   "metadata": {},
   "source": [
    "## Data and Imports"
   ]
  },
  {
   "cell_type": "markdown",
   "metadata": {},
   "source": [
    "### Imports"
   ]
  },
  {
   "cell_type": "code",
   "execution_count": 14,
   "metadata": {},
   "outputs": [],
   "source": [
    "import numpy as np\n",
    "import yfinance as yf # to get our data\n",
    "\n",
    "from sklearn.preprocessing import MinMaxScaler # to normalize our classes\n",
    "from sklearn.model_selection import train_test_split # from tutorial code\n",
    "from sklearn.metrics import accuracy_score, confusion_matrix # needed for plotting\n",
    "\n",
    "from tensorflow.keras.models import Sequential, Model # sequential model for RNN\n",
    "from tensorflow.keras.layers import (Input, Dense, Dropout, LayerNormalization,\n",
    "                                     MultiHeadAttention, Flatten, Add, LSTM) # layers dense and long short term memory for RNN\n",
    "\n",
    "import matplotlib.pyplot as plt # for plotting\n",
    "\n",
    "from tensorflow.keras.optimizers import Adam\n",
    "import tensorflow as tf\n",
    "\n",
    "import matplotlib.pyplot as plt\n",
    "import warnings\n",
    "warnings.filterwarnings(\"ignore\")\n",
    "\n",
    "from statsmodels.graphics.tsaplots import plot_acf, plot_pacf\n",
    "from statsmodels.tsa.stattools import adfuller\n",
    "from statsmodels.tsa.arima.model import ARIMA"
   ]
  },
  {
   "cell_type": "markdown",
   "metadata": {},
   "source": [
    "### Data"
   ]
  },
  {
   "cell_type": "code",
   "execution_count": 15,
   "metadata": {},
   "outputs": [
    {
     "name": "stdout",
     "output_type": "stream",
     "text": [
      "^GSPC S&P 500 ^GSPC (24351, 7) 1927-12-30 00:00:00-05:00 2024-12-06 00:00:00-05:00\n"
     ]
    }
   ],
   "source": [
    "dfs = {} # Store all the data for our tickers, even though for now its just SP500\n",
    "tickers = ['^GSPC',] # Ticker (identifier) for the SP500, which is arguably the most influential, we start with just this\n",
    "\n",
    "# Got this code from https://www.kaggle.com/code/xxxxyyyy80008/predict-stock-market-crashes \n",
    "for ticker in tickers:\n",
    "    cur_data = yf.Ticker(ticker)\n",
    "    hist = cur_data.history(period=\"max\")\n",
    "    print(ticker, cur_data.info['shortName'], ticker, hist.shape, hist.index.min(), hist.index.max())\n",
    "    dfs[ticker] = hist\n",
    "\n",
    "# Preprocessign Functions:\n",
    "# Calculates how much the price has gone down from its highest point, labeling those with a 0.005 quantile as crashes as per directive 1\n",
    "# NOTE: got help from chatgpt for this function to find .pct_change, .cummax and .quantile\n",
    "def calculate_drawdown_and_label(data, quantile_threshold=0.005):\n",
    "\n",
    "    data['daily_return'] = data['Close'].pct_change()\n",
    "\n",
    "    data['drawdown'] = data['Close'] / data['Close'].cummax() - 1\n",
    "\n",
    "    crash_threshold = data['drawdown'].quantile(quantile_threshold)\n",
    "\n",
    "    data['crash_label'] = (data['drawdown'] < crash_threshold).astype(int)\n",
    "\n",
    "    return data\n",
    "\n",
    "## Make the data we targetted the target (nice), we try to predict the market crashes 3 days in advance so shift_days = 3\n",
    "def prepare_target(data, shift_days=3):\n",
    "    data['target'] = (data['crash_label']).astype(int).shift(-shift_days) # complicated line that basically takes our data with crash label, turns the bools into an int, then shift the values by 3 days to predict in advance, since we want to predict 3 days in advance\n",
    "    return data\n",
    "\n",
    "\n",
    "# Database done\n",
    "# Prepare data\n",
    "def preprocess_data(data, sequence_length=15): # data is our data we\n",
    "\n",
    "    scaler = MinMaxScaler(feature_range=(0, 1))  # Normalize our features between 0 and 1 to make sure its all the same, since prices and dropdown are very much not all on scale.\n",
    "    scaled_data = scaler.fit_transform(data[['Close', 'daily_return', 'drawdown']].dropna()) # our simple features we defined before + the ones from hist, scale them and create. .dropna removes the rows that have features which are nan i.e. rows with missing features\n",
    "\n",
    "    X = []\n",
    "    y = []\n",
    "\n",
    "    for i in range(len(scaled_data) - sequence_length): # process data by sequences of days to learn. This is a window, so we go from one day to the next. for example, if we have day 1 to day 15 on iteration i, at iteration i + 1 we have day 2 to 16. this window is a single datapoint within a single minibatch.\n",
    "        days = scaled_data[i:i+sequence_length] # get the sequence of 15 days\n",
    "        X.append(days) # add to x the data as sequences of 15 days\n",
    "        y.append(data['target'].iloc[i + sequence_length]) # this is the target. It adds the value of the next sequence as the target, so we can predict future crashes\n",
    "\n",
    "    X = np.array(X) # turn into array for processing\n",
    "    y = np.array(y)\n",
    "     \n",
    "    \n",
    "    y = y[~np.isnan(y)]  # remove nan of the last few data points, since we shift by 3 days the last few points. i.e. for day 1, the target is day 4 for three days. so at the end of the seuquence wed get 3 empty datapoints. \n",
    "    X = X[:len(y)]  # cut those data points which had no y, i.e. the last few days\n",
    "    return X, y, scaler # return the scaler function to make sure when we process the test data and validation data, we can process the data before feeding it into our model\n",
    "\n"
   ]
  },
  {
   "cell_type": "markdown",
   "metadata": {},
   "source": [
    "## Models"
   ]
  },
  {
   "cell_type": "markdown",
   "metadata": {},
   "source": [
    "### RNN"
   ]
  },
  {
   "cell_type": "code",
   "execution_count": 16,
   "metadata": {},
   "outputs": [],
   "source": [
    "# RNN model from keras.\n",
    "# NOTE: chtgpt helped me find the return_sequences parameter and input_shape parameters. it also helped me find the model.compile names of the specific functions (is it binary_cross_entropy or binary_crossentropy)\n",
    "def rnn_model(input): # by giv\n",
    "    model = Sequential() # choose the RNN (i.e. sequential) so we can stack models\n",
    "    model.add(LSTM(units=50, return_sequences=True, input_shape=input)) # first lstm layer with 50 nodes (arbitrary), we return sequences not the final output since were passing it to another lstm layer\n",
    "    model.add(LSTM(units=50)) # second LSTM layer, this time we do return the final output\n",
    "    model.add(Dense(units=1, activation='sigmoid'))  #dense layer with 1 node to classify binary. because were classifying binarily whether theres a crash, then we use sigmoid to just classify if thres a crash or not\n",
    "    model.compile(optimizer='adam', loss='binary_crossentropy', metrics=['accuracy']) # compile our model with an adam optimizer to adjust our learning rate when were getting closer.. might need to try sgd. binary cross entropy since were binary. accuracy to track during trainign and testing.\n",
    "    return model"
   ]
  },
  {
   "cell_type": "markdown",
   "metadata": {},
   "source": [
    "### Transformers"
   ]
  },
  {
   "cell_type": "code",
   "execution_count": 17,
   "metadata": {},
   "outputs": [],
   "source": [
    "def positional_encoding(sequence_length, d_model):\n",
    "    position = np.arange(sequence_length)[:, np.newaxis]\n",
    "    div_term = np.exp(np.arange(0, d_model, 2) * (-np.log(10000.0) / d_model))\n",
    "    pe = np.zeros((sequence_length, d_model))\n",
    "    pe[:, 0::2] = np.sin(position * div_term)\n",
    "    pe[:, 1::2] = np.cos(position * div_term)\n",
    "    pe = pe[np.newaxis, ...]\n",
    "    return tf.cast(pe, dtype=tf.float32)\n",
    "\n",
    "def transformer_model(input_shape, num_heads=2, embed_dim=32, ff_dim=64):\n",
    "    inputs = Input(shape=input_shape)\n",
    "    x = inputs\n",
    "\n",
    "    x = Dense(embed_dim)(x)\n",
    "\n",
    "    sequence_length = input_shape[0]\n",
    "    positional_encoding_layer = positional_encoding(sequence_length, embed_dim)\n",
    "    x = x + positional_encoding_layer\n",
    "\n",
    "    attention_output = MultiHeadAttention(num_heads=num_heads, key_dim=embed_dim // num_heads)(x, x)\n",
    "    attention_output = Add()([attention_output, x])\n",
    "    attention_output = LayerNormalization(epsilon=1e-6)(attention_output)\n",
    "\n",
    "    ffn_output = Dense(ff_dim, activation='relu')(attention_output)\n",
    "    ffn_output = Dense(embed_dim)(ffn_output)\n",
    "    ffn_output = Add()([ffn_output, attention_output])\n",
    "    ffn_output = LayerNormalization(epsilon=1e-6)(ffn_output)\n",
    "\n",
    "    flatten = Flatten()(ffn_output)\n",
    "    outputs = Dense(1, activation='sigmoid')(flatten)\n",
    "\n",
    "    model = Model(inputs=inputs, outputs=outputs)\n",
    "    model.compile(optimizer=Adam(), loss='binary_crossentropy', metrics=['accuracy'])\n",
    "    return model"
   ]
  },
  {
   "cell_type": "markdown",
   "metadata": {},
   "source": [
    "### ARIMA"
   ]
  },
  {
   "cell_type": "code",
   "execution_count": 18,
   "metadata": {},
   "outputs": [],
   "source": [
    "def forecast_arima(X_test, sequence_length, shift_days, threshold=0.005, p=5, d=1, q=0):\n",
    "    predictions = []\n",
    "\n",
    "    for i in range(len(X_test)):\n",
    "       # make sure we ge tonly the sequence length\n",
    "        if i + sequence_length > len(X_test):\n",
    "            break  \n",
    "        \n",
    "        train_sequence = X_test[i, :, 0]  \n",
    "\n",
    "        model = ARIMA(train_sequence, order=(p, q, d))  \n",
    "        model_fit = model.fit()\n",
    "\n",
    "        # clauclate the forecast on the next 3 days\n",
    "        forecast = model_fit.forecast(steps=shift_days)\n",
    "\n",
    "        # check the drawdown: NOTE: Got help\n",
    "        forecast_drawdown = (np.array(forecast) / max(train_sequence) - 1)\n",
    "        isit_crash = False\n",
    "        for dd in forecast_drawdown: # check if anything is lower than the threshold\n",
    "            if (dd < -threshold):\n",
    "                isit_crash = True\n",
    "                break\n",
    "        \n",
    "        predictions.append(1 if isit_crash == 1 else 0) # make it a crash if its 0\n",
    "\n",
    "    return predictions"
   ]
  },
  {
   "cell_type": "markdown",
   "metadata": {},
   "source": [
    "#### ARIMA - Stationarity test"
   ]
  },
  {
   "cell_type": "code",
   "execution_count": 19,
   "metadata": {},
   "outputs": [
    {
     "name": "stdout",
     "output_type": "stream",
     "text": [
      "ADF Statistic: 7.406940\n",
      "ADF p-value: 1.000000\n",
      "KPSS result: 0.01\n"
     ]
    }
   ],
   "source": [
    "from statsmodels.tsa.stattools import adfuller\n",
    "\n",
    "df = dfs['^GSPC']\n",
    "\n",
    "adf_test = adfuller(df['Close'])\n",
    "# Output the results\n",
    "print('ADF Statistic: %f' % adf_test[0])\n",
    "print('ADF p-value: %f' % adf_test[1])\n",
    "\n",
    "from statsmodels.tsa.stattools import kpss\n",
    "kpss_result = kpss(df['Close'])\n",
    "print(f'KPSS result: {kpss_result[1]}')"
   ]
  },
  {
   "cell_type": "markdown",
   "metadata": {},
   "source": [
    "From the ADF test and KPSS test result, our data is non-stationary, therefore the difference term $d$ is needed."
   ]
  },
  {
   "cell_type": "markdown",
   "metadata": {},
   "source": [
    "#### ARIMA - PACF and ACF"
   ]
  },
  {
   "cell_type": "code",
   "execution_count": 20,
   "metadata": {},
   "outputs": [
    {
     "data": {
      "image/png": "[encoded data removed]",
      "text/plain": [
       "<Figure size 640x480 with 1 Axes>"
      ]
     },
     "metadata": {},
     "output_type": "display_data"
    },
    {
     "data": {
      "image/png": "[encoded data removed]",
      "text/plain": [
       "<Figure size 640x480 with 1 Axes>"
      ]
     },
     "metadata": {},
     "output_type": "display_data"
    }
   ],
   "source": [
    "from statsmodels.graphics.tsaplots import plot_acf, plot_pacf\n",
    "df = dfs['^GSPC']\n",
    "plot_pacf(df['Close'], lags=7)\n",
    "plot_acf(df['Close'], lags=7)\n",
    "plt.show()"
   ]
  },
  {
   "cell_type": "markdown",
   "metadata": {},
   "source": [
    "From PACF, we can choose either $p = 0$ or $p=1$. From ACF, it is hard to tell what should be the degree of $q$, so we will do grid search before each experiment do ensure that we do get the best result."
   ]
  },
  {
   "cell_type": "markdown",
   "metadata": {},
   "source": [
    "# Experiment 1"
   ]
  },
  {
   "cell_type": "markdown",
   "metadata": {},
   "source": [
    "**Conditions:**\n",
    "\n",
    "- Sliding window: 30 days\n",
    "\n",
    "- Shift days: 14 days"
   ]
  },
  {
   "cell_type": "markdown",
   "metadata": {},
   "source": [
    "## Hyperparameters and Preprocessing"
   ]
  },
  {
   "cell_type": "markdown",
   "metadata": {},
   "source": [
    "### Hyperparameters"
   ]
  },
  {
   "cell_type": "code",
   "execution_count": 21,
   "metadata": {},
   "outputs": [],
   "source": [
    "SEQUENCE_LENGTH = 30 # how large our window is\n",
    "TEST_SIZE = 0.2\n",
    "EPOCHS = 20\n",
    "BATCH_SIZE = 20\n",
    "SHIFT_DAYS = 14 # how far ahead we want to predict market crashes"
   ]
  },
  {
   "cell_type": "markdown",
   "metadata": {},
   "source": [
    "### Preprocessing"
   ]
  },
  {
   "cell_type": "code",
   "execution_count": 22,
   "metadata": {},
   "outputs": [],
   "source": [
    "# prep the data\n",
    "for ticker, data in dfs.items():\n",
    "    data = calculate_drawdown_and_label(data) # get the drawdown for our data\n",
    "    data = prepare_target(data, SHIFT_DAYS)\n",
    "    dfs[ticker] = data\n",
    "\n",
    "# now we process our data, here we do as if we had multiple tickers, in case we add more later\n",
    "sequence_length = SEQUENCE_LENGTH # hyperparameter for the length of the window. 15 is completely arbirtrary here, need to adjust to get better or worst results.\n",
    "X = {} # data of all the tickers\n",
    "y = {} # labels of all the tickers\n",
    "scalers = {} # scalers of all the tickers\n",
    "for ticker, data in dfs.items(): #iterate through each ticker, datapoint and the dataframes (dfs) we got from yf, and preprocess them then add them to the dictionnary\n",
    "    X[ticker], y[ticker], scalers[ticker] = preprocess_data(data, sequence_length=sequence_length) \n",
    "\n",
    "# Combine data from all our tickers, joining them on axis 0 i.e. we want to concatenate all the rows together\n",
    "X_all = np.concatenate([X[ticker] for ticker in X], axis=0)\n",
    "y_all = np.concatenate([y[ticker] for ticker in y], axis=0) # same thing for labels\n",
    "\n",
    "# give 20% as test size, 80% for our training data. this functino was found in the tutorial ipynb\n",
    "X_train, X_test, y_train, y_test = train_test_split(X_all, y_all, test_size=TEST_SIZE, random_state=42)\n",
    "# NOTE: chatgpt helped me for the input_shape\n",
    "input_shape = (X_train.shape[1], X_train.shape[2]) # recall X_train is (batch_size, sequence_length, 3 (for 3 features for now)), here we give the batch size and the sequence length"
   ]
  },
  {
   "cell_type": "markdown",
   "metadata": {},
   "source": [
    "## Training"
   ]
  },
  {
   "cell_type": "markdown",
   "metadata": {},
   "source": [
    "### RNN"
   ]
  },
  {
   "cell_type": "code",
   "execution_count": 23,
   "metadata": {},
   "outputs": [
    {
     "name": "stdout",
     "output_type": "stream",
     "text": [
      "Epoch 1/20\n",
      "\u001b[1m973/973\u001b[0m \u001b[32m━━━━━━━━━━━━━━━━━━━━\u001b[0m\u001b[37m\u001b[0m \u001b[1m13s\u001b[0m 11ms/step - accuracy: 0.9933 - loss: 0.0506 - val_accuracy: 0.9953 - val_loss: 0.0104\n",
      "Epoch 2/20\n",
      "\u001b[1m973/973\u001b[0m \u001b[32m━━━━━━━━━━━━━━━━━━━━\u001b[0m\u001b[37m\u001b[0m \u001b[1m10s\u001b[0m 11ms/step - accuracy: 0.9951 - loss: 0.0124 - val_accuracy: 0.9955 - val_loss: 0.0133\n",
      "Epoch 3/20\n",
      "\u001b[1m973/973\u001b[0m \u001b[32m━━━━━━━━━━━━━━━━━━━━\u001b[0m\u001b[37m\u001b[0m \u001b[1m12s\u001b[0m 12ms/step - accuracy: 0.9963 - loss: 0.0095 - val_accuracy: 0.9967 - val_loss: 0.0091\n",
      "Epoch 4/20\n",
      "\u001b[1m973/973\u001b[0m \u001b[32m━━━━━━━━━━━━━━━━━━━━\u001b[0m\u001b[37m\u001b[0m \u001b[1m11s\u001b[0m 12ms/step - accuracy: 0.9963 - loss: 0.0106 - val_accuracy: 0.9973 - val_loss: 0.0085\n",
      "Epoch 5/20\n",
      "\u001b[1m973/973\u001b[0m \u001b[32m━━━━━━━━━━━━━━━━━━━━\u001b[0m\u001b[37m\u001b[0m \u001b[1m12s\u001b[0m 12ms/step - accuracy: 0.9969 - loss: 0.0088 - val_accuracy: 0.9965 - val_loss: 0.0078\n",
      "Epoch 6/20\n",
      "\u001b[1m973/973\u001b[0m \u001b[32m━━━━━━━━━━━━━━━━━━━━\u001b[0m\u001b[37m\u001b[0m \u001b[1m12s\u001b[0m 12ms/step - accuracy: 0.9968 - loss: 0.0074 - val_accuracy: 0.9969 - val_loss: 0.0086\n",
      "Epoch 7/20\n",
      "\u001b[1m973/973\u001b[0m \u001b[32m━━━━━━━━━━━━━━━━━━━━\u001b[0m\u001b[37m\u001b[0m \u001b[1m11s\u001b[0m 11ms/step - accuracy: 0.9971 - loss: 0.0071 - val_accuracy: 0.9979 - val_loss: 0.0057\n",
      "Epoch 8/20\n",
      "\u001b[1m973/973\u001b[0m \u001b[32m━━━━━━━━━━━━━━━━━━━━\u001b[0m\u001b[37m\u001b[0m \u001b[1m12s\u001b[0m 12ms/step - accuracy: 0.9967 - loss: 0.0081 - val_accuracy: 0.9975 - val_loss: 0.0078\n",
      "Epoch 9/20\n",
      "\u001b[1m973/973\u001b[0m \u001b[32m━━━━━━━━━━━━━━━━━━━━\u001b[0m\u001b[37m\u001b[0m \u001b[1m13s\u001b[0m 13ms/step - accuracy: 0.9980 - loss: 0.0065 - val_accuracy: 0.9977 - val_loss: 0.0054\n",
      "Epoch 10/20\n",
      "\u001b[1m973/973\u001b[0m \u001b[32m━━━━━━━━━━━━━━━━━━━━\u001b[0m\u001b[37m\u001b[0m \u001b[1m13s\u001b[0m 13ms/step - accuracy: 0.9973 - loss: 0.0075 - val_accuracy: 0.9975 - val_loss: 0.0054\n",
      "Epoch 11/20\n",
      "\u001b[1m973/973\u001b[0m \u001b[32m━━━━━━━━━━━━━━━━━━━━\u001b[0m\u001b[37m\u001b[0m \u001b[1m13s\u001b[0m 13ms/step - accuracy: 0.9969 - loss: 0.0077 - val_accuracy: 0.9971 - val_loss: 0.0056\n",
      "Epoch 12/20\n",
      "\u001b[1m973/973\u001b[0m \u001b[32m━━━━━━━━━━━━━━━━━━━━\u001b[0m\u001b[37m\u001b[0m \u001b[1m12s\u001b[0m 13ms/step - accuracy: 0.9975 - loss: 0.0061 - val_accuracy: 0.9984 - val_loss: 0.0061\n",
      "Epoch 13/20\n",
      "\u001b[1m973/973\u001b[0m \u001b[32m━━━━━━━━━━━━━━━━━━━━\u001b[0m\u001b[37m\u001b[0m \u001b[1m12s\u001b[0m 13ms/step - accuracy: 0.9974 - loss: 0.0060 - val_accuracy: 0.9986 - val_loss: 0.0048\n",
      "Epoch 14/20\n",
      "\u001b[1m973/973\u001b[0m \u001b[32m━━━━━━━━━━━━━━━━━━━━\u001b[0m\u001b[37m\u001b[0m \u001b[1m12s\u001b[0m 13ms/step - accuracy: 0.9972 - loss: 0.0067 - val_accuracy: 0.9977 - val_loss: 0.0055\n",
      "Epoch 15/20\n",
      "\u001b[1m973/973\u001b[0m \u001b[32m━━━━━━━━━━━━━━━━━━━━\u001b[0m\u001b[37m\u001b[0m \u001b[1m12s\u001b[0m 13ms/step - accuracy: 0.9976 - loss: 0.0069 - val_accuracy: 0.9984 - val_loss: 0.0058\n",
      "Epoch 16/20\n",
      "\u001b[1m973/973\u001b[0m \u001b[32m━━━━━━━━━━━━━━━━━━━━\u001b[0m\u001b[37m\u001b[0m \u001b[1m12s\u001b[0m 13ms/step - accuracy: 0.9981 - loss: 0.0056 - val_accuracy: 0.9981 - val_loss: 0.0055\n",
      "Epoch 17/20\n",
      "\u001b[1m973/973\u001b[0m \u001b[32m━━━━━━━━━━━━━━━━━━━━\u001b[0m\u001b[37m\u001b[0m \u001b[1m13s\u001b[0m 13ms/step - accuracy: 0.9977 - loss: 0.0058 - val_accuracy: 0.9986 - val_loss: 0.0045\n",
      "Epoch 18/20\n",
      "\u001b[1m973/973\u001b[0m \u001b[32m━━━━━━━━━━━━━━━━━━━━\u001b[0m\u001b[37m\u001b[0m \u001b[1m12s\u001b[0m 13ms/step - accuracy: 0.9979 - loss: 0.0054 - val_accuracy: 0.9986 - val_loss: 0.0045\n",
      "Epoch 19/20\n",
      "\u001b[1m973/973\u001b[0m \u001b[32m━━━━━━━━━━━━━━━━━━━━\u001b[0m\u001b[37m\u001b[0m \u001b[1m13s\u001b[0m 13ms/step - accuracy: 0.9975 - loss: 0.0056 - val_accuracy: 0.9988 - val_loss: 0.0042\n",
      "Epoch 20/20\n",
      "\u001b[1m973/973\u001b[0m \u001b[32m━━━━━━━━━━━━━━━━━━━━\u001b[0m\u001b[37m\u001b[0m \u001b[1m13s\u001b[0m 13ms/step - accuracy: 0.9982 - loss: 0.0055 - val_accuracy: 0.9979 - val_loss: 0.0051\n",
      "\u001b[1m152/152\u001b[0m \u001b[32m━━━━━━━━━━━━━━━━━━━━\u001b[0m\u001b[37m\u001b[0m \u001b[1m1s\u001b[0m 6ms/step\n",
      "Test Accuracy: 0.9979432332373509\n"
     ]
    }
   ],
   "source": [
    "exp_1_rnn_trained_model = rnn_model(input_shape) # build our model with our function from before\n",
    "\n",
    "exp_1_rnn_trained_model.fit(X_train, y_train, epochs=EPOCHS, batch_size=BATCH_SIZE, validation_data=(X_test, y_test)) # train our model. relatively large batch size considering we dont have much data, but im getting pretty good accuracy. we use our test data for validation, arguably not great but were not using for early stopping so I guess its ok\n",
    "\n",
    "##### GET ACCURACY AND CONFUSION MATRIX #####\n",
    "exp_1_rnn_predictions_as_probabilities = exp_1_rnn_trained_model.predict(X_test)\n",
    "exp_1_rnn_predictions_as_classes = (exp_1_rnn_predictions_as_probabilities > 0.5).astype(int) # make our predictions binary, a simple scaler that puts values higher than 0.5 to 1 and lower 0. astypeint to return 0 and 1 instead of true false array.\n",
    "exp_1_rnn_accuracy = accuracy_score(y_test, exp_1_rnn_predictions_as_classes) # calculate our accuracy\n",
    "\n",
    "exp_1_rnn_confusion_matrix_var = confusion_matrix(y_test, exp_1_rnn_predictions_as_classes) # plot the confusion matrix\n",
    "#############################################\n",
    "\n",
    "\n",
    "### FINAL ACCURACY\n",
    "print(f\"Test Accuracy: {exp_1_rnn_accuracy}\") # print our final accuracy"
   ]
  },
  {
   "cell_type": "markdown",
   "metadata": {},
   "source": [
    "### Transformers"
   ]
  },
  {
   "cell_type": "code",
   "execution_count": 24,
   "metadata": {},
   "outputs": [
    {
     "name": "stdout",
     "output_type": "stream",
     "text": [
      "Epoch 1/20\n",
      "\u001b[1m973/973\u001b[0m \u001b[32m━━━━━━━━━━━━━━━━━━━━\u001b[0m\u001b[37m\u001b[0m \u001b[1m7s\u001b[0m 5ms/step - accuracy: 0.9943 - loss: 0.0312 - val_accuracy: 0.9955 - val_loss: 0.0209\n",
      "Epoch 2/20\n",
      "\u001b[1m973/973\u001b[0m \u001b[32m━━━━━━━━━━━━━━━━━━━━\u001b[0m\u001b[37m\u001b[0m \u001b[1m5s\u001b[0m 5ms/step - accuracy: 0.9952 - loss: 0.0154 - val_accuracy: 0.9967 - val_loss: 0.0073\n",
      "Epoch 3/20\n",
      "\u001b[1m973/973\u001b[0m \u001b[32m━━━━━━━━━━━━━━━━━━━━\u001b[0m\u001b[37m\u001b[0m \u001b[1m5s\u001b[0m 5ms/step - accuracy: 0.9960 - loss: 0.0110 - val_accuracy: 0.9963 - val_loss: 0.0069\n",
      "Epoch 4/20\n",
      "\u001b[1m973/973\u001b[0m \u001b[32m━━━━━━━━━━━━━━━━━━━━\u001b[0m\u001b[37m\u001b[0m \u001b[1m4s\u001b[0m 4ms/step - accuracy: 0.9968 - loss: 0.0094 - val_accuracy: 0.9924 - val_loss: 0.0186\n",
      "Epoch 5/20\n",
      "\u001b[1m973/973\u001b[0m \u001b[32m━━━━━━━━━━━━━━━━━━━━\u001b[0m\u001b[37m\u001b[0m \u001b[1m5s\u001b[0m 5ms/step - accuracy: 0.9969 - loss: 0.0086 - val_accuracy: 0.9963 - val_loss: 0.0075\n",
      "Epoch 6/20\n",
      "\u001b[1m973/973\u001b[0m \u001b[32m━━━━━━━━━━━━━━━━━━━━\u001b[0m\u001b[37m\u001b[0m \u001b[1m5s\u001b[0m 5ms/step - accuracy: 0.9972 - loss: 0.0072 - val_accuracy: 0.9990 - val_loss: 0.0041\n",
      "Epoch 7/20\n",
      "\u001b[1m973/973\u001b[0m \u001b[32m━━━━━━━━━━━━━━━━━━━━\u001b[0m\u001b[37m\u001b[0m \u001b[1m4s\u001b[0m 5ms/step - accuracy: 0.9977 - loss: 0.0067 - val_accuracy: 0.9979 - val_loss: 0.0052\n",
      "Epoch 8/20\n",
      "\u001b[1m973/973\u001b[0m \u001b[32m━━━━━━━━━━━━━━━━━━━━\u001b[0m\u001b[37m\u001b[0m \u001b[1m4s\u001b[0m 4ms/step - accuracy: 0.9971 - loss: 0.0076 - val_accuracy: 0.9979 - val_loss: 0.0053\n",
      "Epoch 9/20\n",
      "\u001b[1m973/973\u001b[0m \u001b[32m━━━━━━━━━━━━━━━━━━━━\u001b[0m\u001b[37m\u001b[0m \u001b[1m4s\u001b[0m 4ms/step - accuracy: 0.9969 - loss: 0.0086 - val_accuracy: 0.9971 - val_loss: 0.0058\n",
      "Epoch 10/20\n",
      "\u001b[1m973/973\u001b[0m \u001b[32m━━━━━━━━━━━━━━━━━━━━\u001b[0m\u001b[37m\u001b[0m \u001b[1m4s\u001b[0m 4ms/step - accuracy: 0.9977 - loss: 0.0062 - val_accuracy: 0.9990 - val_loss: 0.0039\n",
      "Epoch 11/20\n",
      "\u001b[1m973/973\u001b[0m \u001b[32m━━━━━━━━━━━━━━━━━━━━\u001b[0m\u001b[37m\u001b[0m \u001b[1m4s\u001b[0m 4ms/step - accuracy: 0.9975 - loss: 0.0060 - val_accuracy: 0.9957 - val_loss: 0.0096\n",
      "Epoch 12/20\n",
      "\u001b[1m973/973\u001b[0m \u001b[32m━━━━━━━━━━━━━━━━━━━━\u001b[0m\u001b[37m\u001b[0m \u001b[1m4s\u001b[0m 4ms/step - accuracy: 0.9978 - loss: 0.0065 - val_accuracy: 0.9984 - val_loss: 0.0041\n",
      "Epoch 13/20\n",
      "\u001b[1m973/973\u001b[0m \u001b[32m━━━━━━━━━━━━━━━━━━━━\u001b[0m\u001b[37m\u001b[0m \u001b[1m4s\u001b[0m 4ms/step - accuracy: 0.9973 - loss: 0.0069 - val_accuracy: 0.9986 - val_loss: 0.0041\n",
      "Epoch 14/20\n",
      "\u001b[1m973/973\u001b[0m \u001b[32m━━━━━━━━━━━━━━━━━━━━\u001b[0m\u001b[37m\u001b[0m \u001b[1m4s\u001b[0m 4ms/step - accuracy: 0.9971 - loss: 0.0073 - val_accuracy: 0.9986 - val_loss: 0.0036\n",
      "Epoch 15/20\n",
      "\u001b[1m973/973\u001b[0m \u001b[32m━━━━━━━━━━━━━━━━━━━━\u001b[0m\u001b[37m\u001b[0m \u001b[1m4s\u001b[0m 4ms/step - accuracy: 0.9976 - loss: 0.0060 - val_accuracy: 0.9979 - val_loss: 0.0050\n",
      "Epoch 16/20\n",
      "\u001b[1m973/973\u001b[0m \u001b[32m━━━━━━━━━━━━━━━━━━━━\u001b[0m\u001b[37m\u001b[0m \u001b[1m4s\u001b[0m 4ms/step - accuracy: 0.9974 - loss: 0.0068 - val_accuracy: 0.9988 - val_loss: 0.0036\n",
      "Epoch 17/20\n",
      "\u001b[1m973/973\u001b[0m \u001b[32m━━━━━━━━━━━━━━━━━━━━\u001b[0m\u001b[37m\u001b[0m \u001b[1m4s\u001b[0m 4ms/step - accuracy: 0.9983 - loss: 0.0052 - val_accuracy: 0.9986 - val_loss: 0.0046\n",
      "Epoch 18/20\n",
      "\u001b[1m973/973\u001b[0m \u001b[32m━━━━━━━━━━━━━━━━━━━━\u001b[0m\u001b[37m\u001b[0m \u001b[1m4s\u001b[0m 4ms/step - accuracy: 0.9986 - loss: 0.0040 - val_accuracy: 0.9984 - val_loss: 0.0037\n",
      "Epoch 19/20\n",
      "\u001b[1m973/973\u001b[0m \u001b[32m━━━━━━━━━━━━━━━━━━━━\u001b[0m\u001b[37m\u001b[0m \u001b[1m4s\u001b[0m 4ms/step - accuracy: 0.9979 - loss: 0.0048 - val_accuracy: 0.9984 - val_loss: 0.0043\n",
      "Epoch 20/20\n",
      "\u001b[1m973/973\u001b[0m \u001b[32m━━━━━━━━━━━━━━━━━━━━\u001b[0m\u001b[37m\u001b[0m \u001b[1m4s\u001b[0m 4ms/step - accuracy: 0.9983 - loss: 0.0045 - val_accuracy: 0.9984 - val_loss: 0.0038\n",
      "\u001b[1m152/152\u001b[0m \u001b[32m━━━━━━━━━━━━━━━━━━━━\u001b[0m\u001b[37m\u001b[0m \u001b[1m1s\u001b[0m 3ms/step\n",
      "Transformers EXP 1 Accuracy: 0.9983545865898807\n"
     ]
    }
   ],
   "source": [
    "exp_1_transformer_trained_model = transformer_model(input_shape)\n",
    "exp_1_transformer_trained_model.fit(X_train, y_train, epochs=EPOCHS, batch_size=BATCH_SIZE, validation_data=(X_test, y_test))\n",
    "\n",
    "exp_1_transformer_predictions_as_probabilities = exp_1_transformer_trained_model.predict(X_test)\n",
    "exp_1_transformer_predictions_as_classes = (exp_1_transformer_predictions_as_probabilities > 0.5).astype(int)\n",
    "\n",
    "exp_1_transformer_accuracy = accuracy_score(y_test, exp_1_transformer_predictions_as_classes)\n",
    "exp_1_transformer_confusion_matrix_var = confusion_matrix(y_test, exp_1_transformer_predictions_as_classes)\n",
    "\n",
    "print(f\"Transformers EXP 1 Accuracy: {exp_1_transformer_accuracy}\")"
   ]
  },
  {
   "cell_type": "markdown",
   "metadata": {},
   "source": [
    "### ARIMA"
   ]
  },
  {
   "cell_type": "code",
   "execution_count": 25,
   "metadata": {},
   "outputs": [
    {
     "name": "stdout",
     "output_type": "stream",
     "text": [
      "Hyperparameter: p=0, d=1, q=0\n",
      "Accuracy: 0.004552038071591144\n",
      "Hyperparameter: p=0, d=1, q=1\n",
      "Accuracy: 0.2834678253672667\n",
      "Hyperparameter: p=0, d=1, q=2\n",
      "Accuracy: 0.308710945582454\n",
      "Hyperparameter: p=0, d=1, q=3\n",
      "Accuracy: 0.2482929857231533\n",
      "Hyperparameter: p=0, d=1, q=4\n",
      "Accuracy: 0.2942271880819367\n",
      "Hyperparameter: p=0, d=1, q=5\n",
      "Accuracy: 0.3604386509414442\n",
      "Hyperparameter: p=0, d=2, q=0\n",
      "Accuracy: 0.004758948893027105\n",
      "Hyperparameter: p=0, d=2, q=1\n",
      "Accuracy: 0.2677426029381337\n",
      "Hyperparameter: p=0, d=2, q=2\n",
      "Accuracy: 0.3027105317608111\n",
      "Hyperparameter: p=0, d=2, q=3\n",
      "Accuracy: 0.24229257190151046\n",
      "Hyperparameter: p=0, d=2, q=4\n",
      "Accuracy: 0.26939788950962135\n",
      "Hyperparameter: p=0, d=2, q=5\n",
      "Accuracy: 0.3407821229050279\n",
      "Hyperparameter: p=1, d=1, q=0\n",
      "Accuracy: 0.015104489964825161\n",
      "Hyperparameter: p=1, d=1, q=1\n",
      "Accuracy: 0.27601903579557213\n",
      "Hyperparameter: p=1, d=1, q=2\n",
      "Accuracy: 0.29650320711773226\n",
      "Hyperparameter: p=1, d=1, q=3\n",
      "Accuracy: 0.244775501758742\n",
      "Hyperparameter: p=1, d=1, q=4\n",
      "Accuracy: 0.25822470515207946\n",
      "Hyperparameter: p=1, d=1, q=5\n",
      "Accuracy: 0.30995241051106975\n",
      "Hyperparameter: p=1, d=2, q=0\n",
      "Accuracy: 0.014483757500517277\n",
      "Hyperparameter: p=1, d=2, q=1\n",
      "Accuracy: 0.2602938133664391\n",
      "Hyperparameter: p=1, d=2, q=2\n",
      "Accuracy: 0.3058141940823505\n",
      "Hyperparameter: p=1, d=2, q=3\n",
      "Accuracy: 0.2462238775087937\n",
      "Hyperparameter: p=1, d=2, q=4\n",
      "Accuracy: 0.25781088350920756\n",
      "Hyperparameter: p=1, d=2, q=5\n",
      "Accuracy: 0.30064142354645146\n",
      "Hyperparameter: p=2, d=1, q=0\n",
      "Accuracy: 0.012207738464721705\n",
      "Hyperparameter: p=2, d=1, q=1\n",
      "Accuracy: 0.2636043865094144\n",
      "Hyperparameter: p=2, d=1, q=2\n",
      "Accuracy: 0.30126215601075934\n",
      "Hyperparameter: p=2, d=1, q=3\n",
      "Accuracy: 0.24332712600869025\n",
      "Hyperparameter: p=2, d=1, q=4\n",
      "Accuracy: 0.2468446099731016\n",
      "Hyperparameter: p=2, d=1, q=5\n",
      "Failed to fit ARIMA with p=2, d=1, q=5\n",
      "Hyperparameter: p=2, d=2, q=0\n",
      "Accuracy: 0.016552865714876887\n",
      "Hyperparameter: p=2, d=2, q=1\n",
      "Failed to fit ARIMA with p=2, d=2, q=1\n",
      "Hyperparameter: p=2, d=2, q=2\n",
      "Accuracy: 0.3010552451893234\n",
      "Hyperparameter: p=2, d=2, q=3\n",
      "Accuracy: 0.2530519346161804\n",
      "Hyperparameter: p=2, d=2, q=4\n",
      "Accuracy: 0.24229257190151046\n",
      "Hyperparameter: p=2, d=2, q=5\n",
      "Failed to fit ARIMA with p=2, d=2, q=5\n",
      "\n",
      "Best hyperparameter: (0, 1, 5)\n",
      "Best Accuracy: 0.3604386509414442\n",
      "ARIMA Accuracy on EXP 1: 0.3604386509414442\n"
     ]
    }
   ],
   "source": [
    "###### Grid Search\n",
    "\n",
    "p, d, q = 0, 1, 0\n",
    "best_hyperparameter = (0, 1, 0)\n",
    "best_accuracy = 0\n",
    "\n",
    "try: \n",
    "    for p in range(3): \n",
    "        for d in range(1, 3):  \n",
    "            for q in range(6):  \n",
    "                try:\n",
    "                    print(f'Hyperparameter: p={p}, d={d}, q={q}')\n",
    "                    exp_1_predictions = forecast_arima(\n",
    "                        X_test, sequence_length=SEQUENCE_LENGTH, shift_days=SHIFT_DAYS, p=p, d=d, q=q\n",
    "                    )\n",
    "                    exp_1_predictions_as_classes = np.array(exp_1_predictions[:len(y_test)])\n",
    "                    accuracy = accuracy_score(y_test[:len(exp_1_predictions_as_classes)], exp_1_predictions_as_classes)\n",
    "                    print(f'Accuracy: {accuracy}')\n",
    "                    \n",
    "                    \n",
    "                    if accuracy > best_accuracy:\n",
    "                        best_hyperparameter = (p, d, q)\n",
    "                        best_accuracy = accuracy\n",
    "\n",
    "                except np.linalg.LinAlgError:  \n",
    "                    pass\n",
    "                    print(f'Failed to fit ARIMA with p={p}, d={d}, q={q}')\n",
    "                except Exception as e:  # Catch other unexpected errors\n",
    "                    print(f'Error with p={p}, d={d}, q={q}: {str(e)}')\n",
    "\n",
    "except Exception as e:\n",
    "    print(f\"Unexpected error occurred: {str(e)}\")\n",
    "\n",
    "print(f'\\nBest hyperparameter: {best_hyperparameter}')\n",
    "print(f'Best Accuracy: {best_accuracy}')\n",
    "\n",
    "\n",
    "#### Fitting the model with the best hyper parameters\n",
    "\n",
    "exp_1_arima_predictions = forecast_arima(X_test, sequence_length=SEQUENCE_LENGTH, shift_days=SHIFT_DAYS, p=best_hyperparameter[0], d=best_hyperparameter[1], q=best_hyperparameter[2])\n",
    "exp_1_arima_predictions_as_classes = np.array(exp_1_arima_predictions[:len(y_test)])\n",
    "\n",
    "exp_1_arima_accuracy = accuracy_score(y_test[:len(exp_1_arima_predictions)], exp_1_arima_predictions_as_classes)\n",
    "print(f'ARIMA Accuracy on EXP 1: {exp_1_arima_accuracy}')\n",
    "\n",
    "exp_1_arima_confusion_matrix_var = confusion_matrix(y_test[:len(exp_1_arima_predictions)], exp_1_arima_predictions)"
   ]
  },
  {
   "cell_type": "markdown",
   "metadata": {},
   "source": [
    "## Plots"
   ]
  },
  {
   "cell_type": "markdown",
   "metadata": {},
   "source": [
    "#### Data for plot"
   ]
  },
  {
   "cell_type": "code",
   "execution_count": 26,
   "metadata": {},
   "outputs": [],
   "source": [
    "## RNN\n",
    "exp_1_rnn_real_crashes = int(sum(y_test == 1)) # crashes in our test data\n",
    "exp_1_rnn_predicted_crashes = int((exp_1_rnn_predictions_as_classes == 1).sum()) # crashes are 1 in our predictions\n",
    "exp_1_rnn_predicted_correctly = int(exp_1_rnn_confusion_matrix_var[1, 1])  # tp in our confusion matrix\n",
    "exp_1_rnn_missed_crashes = int(exp_1_rnn_confusion_matrix_var[1, 0])  # fn in our confusion matrix\n",
    "exp_1_rnn_predicted_when_there_wasnt = int(exp_1_rnn_confusion_matrix_var[0, 1])  # fp in our confusion matrix\n",
    "\n",
    "## Transformers\n",
    "exp_1_transformer_real_crashes = int(sum(y_test == 1))\n",
    "exp_1_transformer_predicted_crashes = int((exp_1_transformer_predictions_as_classes == 1).sum())\n",
    "exp_1_transformer_predicted_correctly = int(exp_1_transformer_confusion_matrix_var[1, 1])\n",
    "exp_1_transformer_missed_crashes = int(exp_1_transformer_confusion_matrix_var[1, 0])\n",
    "exp_1_transformer_predicted_when_there_wasnt = int(exp_1_transformer_confusion_matrix_var[0, 1])\n",
    "\n",
    "## ARIMA\n",
    "\n",
    "exp_1_arima_real_crashes = int(sum(y_test == 1)) # crashes in our test data\n",
    "exp_1_arima_predicted_crashes = int((exp_1_predictions_as_classes == 1).sum()) # crashes are 1 in our predictions\n",
    "exp_1_arima_predicted_correctly = int(exp_1_arima_confusion_matrix_var[1, 1])  # tp in our confusion matrix\n",
    "exp_1_arima_missed_crashes = int(exp_1_arima_confusion_matrix_var[1, 0])  # fn in our confusion matrix\n",
    "exp_1_arima_predicted_when_there_wasnt = int(exp_1_arima_confusion_matrix_var[0, 1])  # fp in our confusion matrix\n"
   ]
  },
  {
   "cell_type": "markdown",
   "metadata": {},
   "source": [
    "#### Plot"
   ]
  },
  {
   "cell_type": "code",
   "execution_count": 27,
   "metadata": {},
   "outputs": [
    {
     "data": {
      "image/png": "[encoded data removed]",
      "text/plain": [
       "<Figure size 1200x700 with 1 Axes>"
      ]
     },
     "metadata": {},
     "output_type": "display_data"
    }
   ],
   "source": [
    "import matplotlib.pyplot as plt\n",
    "import numpy as np\n",
    "\n",
    "# RNN data\n",
    "rnn_values = [\n",
    "    exp_1_rnn_real_crashes,\n",
    "    exp_1_rnn_predicted_crashes,\n",
    "    exp_1_rnn_predicted_correctly,\n",
    "    exp_1_rnn_missed_crashes,\n",
    "    exp_1_rnn_predicted_when_there_wasnt\n",
    "]\n",
    "\n",
    "# Transformer data\n",
    "transformer_values = [\n",
    "    exp_1_transformer_real_crashes,\n",
    "    exp_1_transformer_predicted_crashes,\n",
    "    exp_1_transformer_predicted_correctly,\n",
    "    exp_1_transformer_missed_crashes,\n",
    "    exp_1_transformer_predicted_when_there_wasnt\n",
    "]\n",
    "\n",
    "# ARIMA data\n",
    "arima_values = [\n",
    "    exp_1_arima_real_crashes,\n",
    "    exp_1_arima_predicted_crashes,\n",
    "    exp_1_arima_predicted_correctly,\n",
    "    exp_1_arima_missed_crashes,\n",
    "    exp_1_arima_predicted_when_there_wasnt\n",
    "]\n",
    "\n",
    "categories = [\n",
    "    \"Actual Crashes\",\n",
    "    \"Predicted Crashes\",\n",
    "    \"Correctly Predicted Crashes\",\n",
    "    \"Missed Crashes\",\n",
    "    \"False Alarms\"\n",
    "]\n",
    "\n",
    "x = np.arange(len(categories)) \n",
    "width = 0.25 \n",
    "\n",
    "\n",
    "fig, ax = plt.subplots(figsize=(12, 7))\n",
    "\n",
    "bars_rnn = ax.bar(x - width, rnn_values, width, label='RNN', color='orange')\n",
    "bars_transformer = ax.bar(x, transformer_values, width, label='Transformers', color='skyblue')\n",
    "bars_arima = ax.bar(x + width, arima_values, width, label='ARIMA', color='green')\n",
    "\n",
    "\n",
    "ax.set_ylabel('Number of Crashes')\n",
    "ax.set_title('Performance Comparison: RNN, Transformers, and ARIMA')\n",
    "ax.set_xticks(x)\n",
    "ax.set_xticklabels(categories)\n",
    "ax.legend()\n",
    "\n",
    "\n",
    "def add_labels(bars):\n",
    "    for bar in bars:\n",
    "        height = bar.get_height()\n",
    "        ax.annotate(f'{height}',\n",
    "                    xy=(bar.get_x() + bar.get_width() / 2, height),\n",
    "                    xytext=(0, 3),  \n",
    "                    textcoords=\"offset points\",\n",
    "                    ha='center', va='bottom', fontsize=10)\n",
    "\n",
    "add_labels(bars_rnn)\n",
    "add_labels(bars_transformer)\n",
    "add_labels(bars_arima)\n",
    "\n",
    "\n",
    "plt.tight_layout()\n",
    "plt.show()\n"
   ]
  },
  {
   "cell_type": "markdown",
   "metadata": {},
   "source": [
    "# Experiment 2"
   ]
  },
  {
   "cell_type": "markdown",
   "metadata": {},
   "source": [
    "**Conditions:**\n",
    "\n",
    "- Sliding window: 14 days\n",
    "\n",
    "- Shift days: 7 days"
   ]
  },
  {
   "cell_type": "markdown",
   "metadata": {},
   "source": [
    "## Hyperparameters and Preprocessing"
   ]
  },
  {
   "cell_type": "markdown",
   "metadata": {},
   "source": [
    "### Hyperparameters"
   ]
  },
  {
   "cell_type": "code",
   "execution_count": 28,
   "metadata": {},
   "outputs": [],
   "source": [
    "SEQUENCE_LENGTH = 14 # how large our window is\n",
    "TEST_SIZE = 0.2\n",
    "EPOCHS = 20\n",
    "BATCH_SIZE = 20\n",
    "SHIFT_DAYS = 7 # how far ahead we want to predict market crashes"
   ]
  },
  {
   "cell_type": "markdown",
   "metadata": {},
   "source": [
    "### Preprocessing"
   ]
  },
  {
   "cell_type": "code",
   "execution_count": 29,
   "metadata": {},
   "outputs": [],
   "source": [
    "# prep the data\n",
    "for ticker, data in dfs.items():\n",
    "    data = calculate_drawdown_and_label(data) # get the drawdown for our data\n",
    "    data = prepare_target(data, SHIFT_DAYS)\n",
    "    dfs[ticker] = data\n",
    "\n",
    "# now we process our data, here we do as if we had multiple tickers, in case we add more later\n",
    "sequence_length = SEQUENCE_LENGTH # hyperparameter for the length of the window. 15 is completely arbirtrary here, need to adjust to get better or worst results.\n",
    "X = {} # data of all the tickers\n",
    "y = {} # labels of all the tickers\n",
    "scalers = {} # scalers of all the tickers\n",
    "for ticker, data in dfs.items(): #iterate through each ticker, datapoint and the dataframes (dfs) we got from yf, and preprocess them then add them to the dictionnary\n",
    "    X[ticker], y[ticker], scalers[ticker] = preprocess_data(data, sequence_length=sequence_length) \n",
    "\n",
    "# Combine data from all our tickers, joining them on axis 0 i.e. we want to concatenate all the rows together\n",
    "X_all = np.concatenate([X[ticker] for ticker in X], axis=0)\n",
    "y_all = np.concatenate([y[ticker] for ticker in y], axis=0) # same thing for labels\n",
    "\n",
    "# give 20% as test size, 80% for our training data. this functino was found in the tutorial ipynb\n",
    "X_train, X_test, y_train, y_test = train_test_split(X_all, y_all, test_size=TEST_SIZE, random_state=42)\n",
    "# NOTE: chatgpt helped me for the input_shape\n",
    "input_shape = (X_train.shape[1], X_train.shape[2]) # recall X_train is (batch_size, sequence_length, 3 (for 3 features for now)), here we give the batch size and the sequence length"
   ]
  },
  {
   "cell_type": "markdown",
   "metadata": {},
   "source": [
    "## Training"
   ]
  },
  {
   "cell_type": "markdown",
   "metadata": {},
   "source": [
    "### RNN"
   ]
  },
  {
   "cell_type": "code",
   "execution_count": 30,
   "metadata": {},
   "outputs": [
    {
     "name": "stdout",
     "output_type": "stream",
     "text": [
      "Epoch 1/20\n",
      "\u001b[1m974/974\u001b[0m \u001b[32m━━━━━━━━━━━━━━━━━━━━\u001b[0m\u001b[37m\u001b[0m \u001b[1m9s\u001b[0m 7ms/step - accuracy: 0.9813 - loss: 0.0561 - val_accuracy: 0.9973 - val_loss: 0.0073\n",
      "Epoch 2/20\n",
      "\u001b[1m974/974\u001b[0m \u001b[32m━━━━━━━━━━━━━━━━━━━━\u001b[0m\u001b[37m\u001b[0m \u001b[1m6s\u001b[0m 6ms/step - accuracy: 0.9963 - loss: 0.0097 - val_accuracy: 0.9971 - val_loss: 0.0069\n",
      "Epoch 3/20\n",
      "\u001b[1m974/974\u001b[0m \u001b[32m━━━━━━━━━━━━━━━━━━━━\u001b[0m\u001b[37m\u001b[0m \u001b[1m6s\u001b[0m 6ms/step - accuracy: 0.9965 - loss: 0.0084 - val_accuracy: 0.9975 - val_loss: 0.0060\n",
      "Epoch 4/20\n",
      "\u001b[1m974/974\u001b[0m \u001b[32m━━━━━━━━━━━━━━━━━━━━\u001b[0m\u001b[37m\u001b[0m \u001b[1m6s\u001b[0m 6ms/step - accuracy: 0.9973 - loss: 0.0073 - val_accuracy: 0.9975 - val_loss: 0.0059\n",
      "Epoch 5/20\n",
      "\u001b[1m974/974\u001b[0m \u001b[32m━━━━━━━━━━━━━━━━━━━━\u001b[0m\u001b[37m\u001b[0m \u001b[1m6s\u001b[0m 6ms/step - accuracy: 0.9967 - loss: 0.0089 - val_accuracy: 0.9979 - val_loss: 0.0055\n",
      "Epoch 6/20\n",
      "\u001b[1m974/974\u001b[0m \u001b[32m━━━━━━━━━━━━━━━━━━━━\u001b[0m\u001b[37m\u001b[0m \u001b[1m6s\u001b[0m 6ms/step - accuracy: 0.9971 - loss: 0.0072 - val_accuracy: 0.9973 - val_loss: 0.0056\n",
      "Epoch 7/20\n",
      "\u001b[1m974/974\u001b[0m \u001b[32m━━━━━━━━━━━━━━━━━━━━\u001b[0m\u001b[37m\u001b[0m \u001b[1m6s\u001b[0m 6ms/step - accuracy: 0.9969 - loss: 0.0078 - val_accuracy: 0.9979 - val_loss: 0.0056\n",
      "Epoch 8/20\n",
      "\u001b[1m974/974\u001b[0m \u001b[32m━━━━━━━━━━━━━━━━━━━━\u001b[0m\u001b[37m\u001b[0m \u001b[1m6s\u001b[0m 6ms/step - accuracy: 0.9971 - loss: 0.0074 - val_accuracy: 0.9967 - val_loss: 0.0067\n",
      "Epoch 9/20\n",
      "\u001b[1m974/974\u001b[0m \u001b[32m━━━━━━━━━━━━━━━━━━━━\u001b[0m\u001b[37m\u001b[0m \u001b[1m7s\u001b[0m 7ms/step - accuracy: 0.9977 - loss: 0.0065 - val_accuracy: 0.9982 - val_loss: 0.0047\n",
      "Epoch 10/20\n",
      "\u001b[1m974/974\u001b[0m \u001b[32m━━━━━━━━━━━━━━━━━━━━\u001b[0m\u001b[37m\u001b[0m \u001b[1m6s\u001b[0m 7ms/step - accuracy: 0.9971 - loss: 0.0069 - val_accuracy: 0.9977 - val_loss: 0.0053\n",
      "Epoch 11/20\n",
      "\u001b[1m974/974\u001b[0m \u001b[32m━━━━━━━━━━━━━━━━━━━━\u001b[0m\u001b[37m\u001b[0m \u001b[1m6s\u001b[0m 6ms/step - accuracy: 0.9979 - loss: 0.0055 - val_accuracy: 0.9969 - val_loss: 0.0065\n",
      "Epoch 12/20\n",
      "\u001b[1m974/974\u001b[0m \u001b[32m━━━━━━━━━━━━━━━━━━━━\u001b[0m\u001b[37m\u001b[0m \u001b[1m6s\u001b[0m 6ms/step - accuracy: 0.9975 - loss: 0.0054 - val_accuracy: 0.9977 - val_loss: 0.0056\n",
      "Epoch 13/20\n",
      "\u001b[1m974/974\u001b[0m \u001b[32m━━━━━━━━━━━━━━━━━━━━\u001b[0m\u001b[37m\u001b[0m \u001b[1m6s\u001b[0m 6ms/step - accuracy: 0.9984 - loss: 0.0045 - val_accuracy: 0.9979 - val_loss: 0.0047\n",
      "Epoch 14/20\n",
      "\u001b[1m974/974\u001b[0m \u001b[32m━━━━━━━━━━━━━━━━━━━━\u001b[0m\u001b[37m\u001b[0m \u001b[1m6s\u001b[0m 6ms/step - accuracy: 0.9973 - loss: 0.0058 - val_accuracy: 0.9982 - val_loss: 0.0049\n",
      "Epoch 15/20\n",
      "\u001b[1m974/974\u001b[0m \u001b[32m━━━━━━━━━━━━━━━━━━━━\u001b[0m\u001b[37m\u001b[0m \u001b[1m6s\u001b[0m 6ms/step - accuracy: 0.9984 - loss: 0.0051 - val_accuracy: 0.9979 - val_loss: 0.0046\n",
      "Epoch 16/20\n",
      "\u001b[1m974/974\u001b[0m \u001b[32m━━━━━━━━━━━━━━━━━━━━\u001b[0m\u001b[37m\u001b[0m \u001b[1m6s\u001b[0m 6ms/step - accuracy: 0.9985 - loss: 0.0048 - val_accuracy: 0.9973 - val_loss: 0.0053\n",
      "Epoch 17/20\n",
      "\u001b[1m974/974\u001b[0m \u001b[32m━━━━━━━━━━━━━━━━━━━━\u001b[0m\u001b[37m\u001b[0m \u001b[1m6s\u001b[0m 6ms/step - accuracy: 0.9985 - loss: 0.0045 - val_accuracy: 0.9982 - val_loss: 0.0046\n",
      "Epoch 18/20\n",
      "\u001b[1m974/974\u001b[0m \u001b[32m━━━━━━━━━━━━━━━━━━━━\u001b[0m\u001b[37m\u001b[0m \u001b[1m6s\u001b[0m 6ms/step - accuracy: 0.9985 - loss: 0.0041 - val_accuracy: 0.9973 - val_loss: 0.0051\n",
      "Epoch 19/20\n",
      "\u001b[1m974/974\u001b[0m \u001b[32m━━━━━━━━━━━━━━━━━━━━\u001b[0m\u001b[37m\u001b[0m \u001b[1m6s\u001b[0m 6ms/step - accuracy: 0.9976 - loss: 0.0058 - val_accuracy: 0.9982 - val_loss: 0.0046\n",
      "Epoch 20/20\n",
      "\u001b[1m974/974\u001b[0m \u001b[32m━━━━━━━━━━━━━━━━━━━━\u001b[0m\u001b[37m\u001b[0m \u001b[1m6s\u001b[0m 6ms/step - accuracy: 0.9984 - loss: 0.0057 - val_accuracy: 0.9975 - val_loss: 0.0052\n",
      "\u001b[1m153/153\u001b[0m \u001b[32m━━━━━━━━━━━━━━━━━━━━\u001b[0m\u001b[37m\u001b[0m \u001b[1m1s\u001b[0m 4ms/step\n",
      "Test Accuracy: 0.9975339087546239\n"
     ]
    }
   ],
   "source": [
    "exp_2_rnn_trained_model = rnn_model(input_shape) # build our model with our function from before\n",
    "\n",
    "exp_2_rnn_trained_model.fit(X_train, y_train, epochs=EPOCHS, batch_size=BATCH_SIZE, validation_data=(X_test, y_test)) # train our model. relatively large batch size considering we dont have much data, but im getting pretty good accuracy. we use our test data for validation, arguably not great but were not using for early stopping so I guess its ok\n",
    "\n",
    "##### GET ACCURACY AND CONFUSION MATRIX #####\n",
    "exp_2_rnn_predictions_as_probabilities = exp_2_rnn_trained_model.predict(X_test)\n",
    "exp_2_rnn_predictions_as_classes = (exp_2_rnn_predictions_as_probabilities > 0.5).astype(int) # make our predictions binary, a simple scaler that puts values higher than 0.5 to 1 and lower 0. astypeint to return 0 and 1 instead of true false array.\n",
    "exp_2_rnn_accuracy = accuracy_score(y_test, exp_2_rnn_predictions_as_classes) # calculate our accuracy\n",
    "\n",
    "exp_2_rnn_confusion_matrix_var = confusion_matrix(y_test, exp_2_rnn_predictions_as_classes) # plot the confusion matrix\n",
    "#############################################\n",
    "\n",
    "\n",
    "### FINAL ACCURACY\n",
    "print(f\"Test Accuracy: {exp_2_rnn_accuracy}\") # print our final accuracy"
   ]
  },
  {
   "cell_type": "markdown",
   "metadata": {},
   "source": [
    "### Transformers"
   ]
  },
  {
   "cell_type": "code",
   "execution_count": 31,
   "metadata": {},
   "outputs": [
    {
     "name": "stdout",
     "output_type": "stream",
     "text": [
      "Epoch 1/20\n",
      "\u001b[1m974/974\u001b[0m \u001b[32m━━━━━━━━━━━━━━━━━━━━\u001b[0m\u001b[37m\u001b[0m \u001b[1m5s\u001b[0m 4ms/step - accuracy: 0.9865 - loss: 0.0431 - val_accuracy: 0.9955 - val_loss: 0.0090\n",
      "Epoch 2/20\n",
      "\u001b[1m974/974\u001b[0m \u001b[32m━━━━━━━━━━━━━━━━━━━━\u001b[0m\u001b[37m\u001b[0m \u001b[1m3s\u001b[0m 4ms/step - accuracy: 0.9960 - loss: 0.0133 - val_accuracy: 0.9975 - val_loss: 0.0057\n",
      "Epoch 3/20\n",
      "\u001b[1m974/974\u001b[0m \u001b[32m━━━━━━━━━━━━━━━━━━━━\u001b[0m\u001b[37m\u001b[0m \u001b[1m3s\u001b[0m 4ms/step - accuracy: 0.9967 - loss: 0.0091 - val_accuracy: 0.9969 - val_loss: 0.0062\n",
      "Epoch 4/20\n",
      "\u001b[1m974/974\u001b[0m \u001b[32m━━━━━━━━━━━━━━━━━━━━\u001b[0m\u001b[37m\u001b[0m \u001b[1m3s\u001b[0m 3ms/step - accuracy: 0.9961 - loss: 0.0090 - val_accuracy: 0.9965 - val_loss: 0.0078\n",
      "Epoch 5/20\n",
      "\u001b[1m974/974\u001b[0m \u001b[32m━━━━━━━━━━━━━━━━━━━━\u001b[0m\u001b[37m\u001b[0m \u001b[1m3s\u001b[0m 4ms/step - accuracy: 0.9964 - loss: 0.0088 - val_accuracy: 0.9965 - val_loss: 0.0107\n",
      "Epoch 6/20\n",
      "\u001b[1m974/974\u001b[0m \u001b[32m━━━━━━━━━━━━━━━━━━━━\u001b[0m\u001b[37m\u001b[0m \u001b[1m3s\u001b[0m 4ms/step - accuracy: 0.9972 - loss: 0.0063 - val_accuracy: 0.9967 - val_loss: 0.0078\n",
      "Epoch 7/20\n",
      "\u001b[1m974/974\u001b[0m \u001b[32m━━━━━━━━━━━━━━━━━━━━\u001b[0m\u001b[37m\u001b[0m \u001b[1m3s\u001b[0m 3ms/step - accuracy: 0.9975 - loss: 0.0063 - val_accuracy: 0.9982 - val_loss: 0.0053\n",
      "Epoch 8/20\n",
      "\u001b[1m974/974\u001b[0m \u001b[32m━━━━━━━━━━━━━━━━━━━━\u001b[0m\u001b[37m\u001b[0m \u001b[1m3s\u001b[0m 3ms/step - accuracy: 0.9982 - loss: 0.0050 - val_accuracy: 0.9982 - val_loss: 0.0052\n",
      "Epoch 9/20\n",
      "\u001b[1m974/974\u001b[0m \u001b[32m━━━━━━━━━━━━━━━━━━━━\u001b[0m\u001b[37m\u001b[0m \u001b[1m3s\u001b[0m 3ms/step - accuracy: 0.9976 - loss: 0.0055 - val_accuracy: 0.9982 - val_loss: 0.0046\n",
      "Epoch 10/20\n",
      "\u001b[1m974/974\u001b[0m \u001b[32m━━━━━━━━━━━━━━━━━━━━\u001b[0m\u001b[37m\u001b[0m \u001b[1m3s\u001b[0m 3ms/step - accuracy: 0.9974 - loss: 0.0058 - val_accuracy: 0.9977 - val_loss: 0.0048\n",
      "Epoch 11/20\n",
      "\u001b[1m974/974\u001b[0m \u001b[32m━━━━━━━━━━━━━━━━━━━━\u001b[0m\u001b[37m\u001b[0m \u001b[1m3s\u001b[0m 3ms/step - accuracy: 0.9974 - loss: 0.0052 - val_accuracy: 0.9967 - val_loss: 0.0064\n",
      "Epoch 12/20\n",
      "\u001b[1m974/974\u001b[0m \u001b[32m━━━━━━━━━━━━━━━━━━━━\u001b[0m\u001b[37m\u001b[0m \u001b[1m3s\u001b[0m 3ms/step - accuracy: 0.9976 - loss: 0.0055 - val_accuracy: 0.9982 - val_loss: 0.0054\n",
      "Epoch 13/20\n",
      "\u001b[1m974/974\u001b[0m \u001b[32m━━━━━━━━━━━━━━━━━━━━\u001b[0m\u001b[37m\u001b[0m \u001b[1m3s\u001b[0m 3ms/step - accuracy: 0.9984 - loss: 0.0045 - val_accuracy: 0.9982 - val_loss: 0.0043\n",
      "Epoch 14/20\n",
      "\u001b[1m974/974\u001b[0m \u001b[32m━━━━━━━━━━━━━━━━━━━━\u001b[0m\u001b[37m\u001b[0m \u001b[1m3s\u001b[0m 3ms/step - accuracy: 0.9979 - loss: 0.0055 - val_accuracy: 0.9967 - val_loss: 0.0074\n",
      "Epoch 15/20\n",
      "\u001b[1m974/974\u001b[0m \u001b[32m━━━━━━━━━━━━━━━━━━━━\u001b[0m\u001b[37m\u001b[0m \u001b[1m3s\u001b[0m 3ms/step - accuracy: 0.9976 - loss: 0.0054 - val_accuracy: 0.9973 - val_loss: 0.0049\n",
      "Epoch 16/20\n",
      "\u001b[1m974/974\u001b[0m \u001b[32m━━━━━━━━━━━━━━━━━━━━\u001b[0m\u001b[37m\u001b[0m \u001b[1m3s\u001b[0m 3ms/step - accuracy: 0.9980 - loss: 0.0054 - val_accuracy: 0.9982 - val_loss: 0.0047\n",
      "Epoch 17/20\n",
      "\u001b[1m974/974\u001b[0m \u001b[32m━━━━━━━━━━━━━━━━━━━━\u001b[0m\u001b[37m\u001b[0m \u001b[1m3s\u001b[0m 3ms/step - accuracy: 0.9971 - loss: 0.0063 - val_accuracy: 0.9979 - val_loss: 0.0042\n",
      "Epoch 18/20\n",
      "\u001b[1m974/974\u001b[0m \u001b[32m━━━━━━━━━━━━━━━━━━━━\u001b[0m\u001b[37m\u001b[0m \u001b[1m3s\u001b[0m 3ms/step - accuracy: 0.9977 - loss: 0.0059 - val_accuracy: 0.9963 - val_loss: 0.0120\n",
      "Epoch 19/20\n",
      "\u001b[1m974/974\u001b[0m \u001b[32m━━━━━━━━━━━━━━━━━━━━\u001b[0m\u001b[37m\u001b[0m \u001b[1m3s\u001b[0m 3ms/step - accuracy: 0.9977 - loss: 0.0051 - val_accuracy: 0.9977 - val_loss: 0.0054\n",
      "Epoch 20/20\n",
      "\u001b[1m974/974\u001b[0m \u001b[32m━━━━━━━━━━━━━━━━━━━━\u001b[0m\u001b[37m\u001b[0m \u001b[1m3s\u001b[0m 3ms/step - accuracy: 0.9976 - loss: 0.0050 - val_accuracy: 0.9979 - val_loss: 0.0050\n",
      "\u001b[1m153/153\u001b[0m \u001b[32m━━━━━━━━━━━━━━━━━━━━\u001b[0m\u001b[37m\u001b[0m \u001b[1m0s\u001b[0m 2ms/step\n",
      "Transformers EXP 1 Accuracy: 0.9979449239621866\n"
     ]
    }
   ],
   "source": [
    "exp_2_transformer_trained_model = transformer_model(input_shape)\n",
    "exp_2_transformer_trained_model.fit(X_train, y_train, epochs=EPOCHS, batch_size=BATCH_SIZE, validation_data=(X_test, y_test))\n",
    "\n",
    "exp_2_transformer_predictions_as_probabilities = exp_2_transformer_trained_model.predict(X_test)\n",
    "exp_2_transformer_predictions_as_classes = (exp_2_transformer_predictions_as_probabilities > 0.5).astype(int)\n",
    "\n",
    "exp_2_transformer_accuracy = accuracy_score(y_test, exp_2_transformer_predictions_as_classes)\n",
    "exp_2_transformer_confusion_matrix_var = confusion_matrix(y_test, exp_2_transformer_predictions_as_classes)\n",
    "\n",
    "print(f\"Transformers EXP 1 Accuracy: {exp_2_transformer_accuracy}\")"
   ]
  },
  {
   "cell_type": "markdown",
   "metadata": {},
   "source": [
    "### ARIMA"
   ]
  },
  {
   "cell_type": "code",
   "execution_count": 32,
   "metadata": {},
   "outputs": [
    {
     "name": "stdout",
     "output_type": "stream",
     "text": [
      "Hyperparameter: p=0, d=1, q=0\n",
      "Accuracy: 0.011333195961261075\n",
      "Hyperparameter: p=0, d=1, q=1\n",
      "Accuracy: 0.34926849371522767\n",
      "Hyperparameter: p=0, d=1, q=2\n",
      "Accuracy: 0.380383268081599\n",
      "Hyperparameter: p=0, d=1, q=3\n",
      "Accuracy: 0.31135380177209976\n",
      "Hyperparameter: p=0, d=1, q=4\n",
      "Accuracy: 0.35483206264166495\n",
      "Hyperparameter: p=0, d=1, q=5\n",
      "Accuracy: 0.4145889140737688\n",
      "Hyperparameter: p=0, d=2, q=0\n",
      "Accuracy: 0.011745312178034206\n",
      "Hyperparameter: p=0, d=2, q=1\n",
      "Accuracy: 0.3103235112301669\n",
      "Hyperparameter: p=0, d=2, q=2\n",
      "Accuracy: 0.36595920049453945\n",
      "Hyperparameter: p=0, d=2, q=3\n",
      "Accuracy: 0.3183597774572429\n",
      "Hyperparameter: p=0, d=2, q=4\n",
      "Accuracy: 0.3585411085926231\n",
      "Hyperparameter: p=0, d=2, q=5\n",
      "Accuracy: 0.41747372759118073\n",
      "Hyperparameter: p=1, d=1, q=0\n",
      "Accuracy: 0.029878425716051926\n",
      "Hyperparameter: p=1, d=1, q=1\n",
      "Accuracy: 0.3393777045126726\n",
      "Hyperparameter: p=1, d=1, q=2\n",
      "Accuracy: 0.37646816402225425\n",
      "Hyperparameter: p=1, d=1, q=3\n",
      "Accuracy: 0.3150628477230579\n",
      "Hyperparameter: p=1, d=1, q=4\n",
      "Accuracy: 0.33814135586235317\n",
      "Hyperparameter: p=1, d=1, q=5\n",
      "Accuracy: 0.3799711518648259\n",
      "Hyperparameter: p=1, d=2, q=0\n",
      "Accuracy: 0.03255718112507727\n",
      "Hyperparameter: p=1, d=2, q=1\n",
      "Failed to fit ARIMA with p=1, d=2, q=1\n",
      "Hyperparameter: p=1, d=2, q=2\n",
      "Accuracy: 0.36719554914485886\n",
      "Hyperparameter: p=1, d=2, q=3\n",
      "Accuracy: 0.3123840923140326\n",
      "Hyperparameter: p=1, d=2, q=4\n",
      "Accuracy: 0.35421388831650524\n",
      "Hyperparameter: p=1, d=2, q=5\n",
      "Accuracy: 0.4582732330517206\n",
      "Hyperparameter: p=2, d=1, q=0\n",
      "Accuracy: 0.021017927055429632\n",
      "Hyperparameter: p=2, d=1, q=1\n",
      "Accuracy: 0.3140325571811251\n",
      "Hyperparameter: p=2, d=1, q=2\n",
      "Accuracy: 0.367607665361632\n",
      "Hyperparameter: p=2, d=1, q=3\n",
      "Accuracy: 0.3237172882752936\n",
      "Hyperparameter: p=2, d=1, q=4\n",
      "Accuracy: 0.339171646404286\n",
      "Hyperparameter: p=2, d=1, q=5\n",
      "Failed to fit ARIMA with p=2, d=1, q=5\n",
      "Hyperparameter: p=2, d=2, q=0\n",
      "Accuracy: 0.026993612198640018\n",
      "Hyperparameter: p=2, d=2, q=1\n",
      "Accuracy: 0.2969297341850402\n",
      "Hyperparameter: p=2, d=2, q=2\n",
      "Accuracy: 0.3538017720997321\n",
      "Hyperparameter: p=2, d=2, q=3\n",
      "Failed to fit ARIMA with p=2, d=2, q=3\n",
      "Hyperparameter: p=2, d=2, q=4\n",
      "Accuracy: 0.38368019781578405\n",
      "Hyperparameter: p=2, d=2, q=5\n",
      "Failed to fit ARIMA with p=2, d=2, q=5\n",
      "\n",
      "Best hyperparameter: (1, 2, 5)\n",
      "Best Accuracy: 0.4582732330517206\n",
      "ARIMA Accuracy on EXP 1: 0.4582732330517206\n"
     ]
    }
   ],
   "source": [
    "###### Grid Search\n",
    "\n",
    "p, d, q = 0, 1, 0\n",
    "best_hyperparameter = (0, 1, 0)\n",
    "best_accuracy = 0\n",
    "\n",
    "try: \n",
    "    for p in range(3): \n",
    "        for d in range(1, 3):  \n",
    "            for q in range(6):  \n",
    "                try:\n",
    "                    print(f'Hyperparameter: p={p}, d={d}, q={q}')\n",
    "                    exp_2_predictions = forecast_arima(\n",
    "                        X_test, sequence_length=SEQUENCE_LENGTH, shift_days=SHIFT_DAYS, p=p, d=d, q=q\n",
    "                    )\n",
    "                    exp_2_predictions_as_classes = np.array(exp_2_predictions[:len(y_test)])\n",
    "                    accuracy = accuracy_score(y_test[:len(exp_2_predictions_as_classes)], exp_2_predictions_as_classes)\n",
    "                    print(f'Accuracy: {accuracy}')\n",
    "                    \n",
    "                    \n",
    "                    if accuracy > best_accuracy:\n",
    "                        best_hyperparameter = (p, d, q)\n",
    "                        best_accuracy = accuracy\n",
    "\n",
    "                except np.linalg.LinAlgError:  \n",
    "                    pass\n",
    "                    print(f'Failed to fit ARIMA with p={p}, d={d}, q={q}')\n",
    "                except Exception as e:  # Catch other unexpected errors\n",
    "                    print(f'Error with p={p}, d={d}, q={q}: {str(e)}')\n",
    "\n",
    "except Exception as e:\n",
    "    print(f\"Unexpected error occurred: {str(e)}\")\n",
    "\n",
    "print(f'\\nBest hyperparameter: {best_hyperparameter}')\n",
    "print(f'Best Accuracy: {best_accuracy}')\n",
    "\n",
    "\n",
    "#### Fitting the model with the best hyper parameters\n",
    "\n",
    "exp_2_arima_predictions = forecast_arima(X_test, sequence_length=SEQUENCE_LENGTH, shift_days=SHIFT_DAYS, p=best_hyperparameter[0], d=best_hyperparameter[1], q=best_hyperparameter[2])\n",
    "exp_2_arima_predictions_as_classes = np.array(exp_2_arima_predictions[:len(y_test)])\n",
    "\n",
    "exp_2_arima_accuracy = accuracy_score(y_test[:len(exp_2_arima_predictions)], exp_2_arima_predictions_as_classes)\n",
    "print(f'ARIMA Accuracy on EXP 1: {exp_2_arima_accuracy}')\n",
    "\n",
    "exp_2_arima_confusion_matrix_var = confusion_matrix(y_test[:len(exp_2_arima_predictions)], exp_2_arima_predictions)"
   ]
  },
  {
   "cell_type": "markdown",
   "metadata": {},
   "source": [
    "## Plots"
   ]
  },
  {
   "cell_type": "markdown",
   "metadata": {},
   "source": [
    "#### Data for plot"
   ]
  },
  {
   "cell_type": "code",
   "execution_count": 33,
   "metadata": {},
   "outputs": [],
   "source": [
    "## RNN\n",
    "exp_2_rnn_real_crashes = int(sum(y_test == 1)) # crashes in our test data\n",
    "exp_2_rnn_predicted_crashes = int((exp_2_rnn_predictions_as_classes == 1).sum()) # crashes are 1 in our predictions\n",
    "exp_2_rnn_predicted_correctly = int(exp_2_rnn_confusion_matrix_var[1, 1])  # tp in our confusion matrix\n",
    "exp_2_rnn_missed_crashes = int(exp_2_rnn_confusion_matrix_var[1, 0])  # fn in our confusion matrix\n",
    "exp_2_rnn_predicted_when_there_wasnt = int(exp_2_rnn_confusion_matrix_var[0, 1])  # fp in our confusion matrix\n",
    "\n",
    "## Transformers\n",
    "exp_2_transformer_real_crashes = int(sum(y_test == 1))\n",
    "exp_2_transformer_predicted_crashes = int((exp_2_transformer_predictions_as_classes == 1).sum())\n",
    "exp_2_transformer_predicted_correctly = int(exp_2_transformer_confusion_matrix_var[1, 1])\n",
    "exp_2_transformer_missed_crashes = int(exp_2_transformer_confusion_matrix_var[1, 0])\n",
    "exp_2_transformer_predicted_when_there_wasnt = int(exp_2_transformer_confusion_matrix_var[0, 1])\n",
    "\n",
    "## ARIMA\n",
    "\n",
    "exp_2_arima_real_crashes = int(sum(y_test == 1)) # crashes in our test data\n",
    "exp_2_arima_predicted_crashes = int((exp_2_arima_predictions_as_classes == 1).sum()) # crashes are 1 in our predictions\n",
    "exp_2_arima_predicted_correctly = int(exp_2_arima_confusion_matrix_var[1, 1])  # tp in our confusion matrix\n",
    "exp_2_arima_missed_crashes = int(exp_2_arima_confusion_matrix_var[1, 0])  # fn in our confusion matrix\n",
    "exp_2_arima_predicted_when_there_wasnt = int(exp_2_arima_confusion_matrix_var[0, 1])  # fp in our confusion matrix\n"
   ]
  },
  {
   "cell_type": "markdown",
   "metadata": {},
   "source": [
    "#### Plot"
   ]
  },
  {
   "cell_type": "code",
   "execution_count": 34,
   "metadata": {},
   "outputs": [
    {
     "data": {
      "image/png": "[encoded data removed]",
      "text/plain": [
       "<Figure size 1200x700 with 1 Axes>"
      ]
     },
     "metadata": {},
     "output_type": "display_data"
    }
   ],
   "source": [
    "import matplotlib.pyplot as plt\n",
    "import numpy as np\n",
    "\n",
    "# RNN data\n",
    "rnn_values = [\n",
    "    exp_2_rnn_real_crashes,\n",
    "    exp_2_rnn_predicted_crashes,\n",
    "    exp_2_rnn_predicted_correctly,\n",
    "    exp_2_rnn_missed_crashes,\n",
    "    exp_2_rnn_predicted_when_there_wasnt\n",
    "]\n",
    "\n",
    "# Transformer data\n",
    "transformer_values = [\n",
    "    exp_2_transformer_real_crashes,\n",
    "    exp_2_transformer_predicted_crashes,\n",
    "    exp_2_transformer_predicted_correctly,\n",
    "    exp_2_transformer_missed_crashes,\n",
    "    exp_2_transformer_predicted_when_there_wasnt\n",
    "]\n",
    "\n",
    "# ARIMA data\n",
    "arima_values = [\n",
    "    exp_2_arima_real_crashes,\n",
    "    exp_2_arima_predicted_crashes,\n",
    "    exp_2_arima_predicted_correctly,\n",
    "    exp_2_arima_missed_crashes,\n",
    "    exp_2_arima_predicted_when_there_wasnt\n",
    "]\n",
    "\n",
    "categories = [\n",
    "    \"Actual Crashes\",\n",
    "    \"Predicted Crashes\",\n",
    "    \"Correctly Predicted Crashes\",\n",
    "    \"Missed Crashes\",\n",
    "    \"False Alarms\"\n",
    "]\n",
    "\n",
    "\n",
    "x = np.arange(len(categories))  \n",
    "width = 0.25  \n",
    "\n",
    "\n",
    "fig, ax = plt.subplots(figsize=(12, 7))\n",
    "\n",
    "bars_rnn = ax.bar(x - width, rnn_values, width, label='RNN', color='orange')\n",
    "bars_transformer = ax.bar(x, transformer_values, width, label='Transformers', color='skyblue')\n",
    "bars_arima = ax.bar(x + width, arima_values, width, label='ARIMA', color='green')\n",
    "\n",
    "\n",
    "ax.set_ylabel('Number of Crashes')\n",
    "ax.set_title('Performance Comparison: RNN, Transformers, and ARIMA')\n",
    "ax.set_xticks(x)\n",
    "ax.set_xticklabels(categories)\n",
    "ax.legend()\n",
    "\n",
    "\n",
    "def add_labels(bars):\n",
    "    for bar in bars:\n",
    "        height = bar.get_height()\n",
    "        ax.annotate(f'{height}',\n",
    "                    xy=(bar.get_x() + bar.get_width() / 2, height),\n",
    "                    xytext=(0, 3),  \n",
    "                    textcoords=\"offset points\",\n",
    "                    ha='center', va='bottom', fontsize=10)\n",
    "\n",
    "add_labels(bars_rnn)\n",
    "add_labels(bars_transformer)\n",
    "add_labels(bars_arima)\n",
    "\n",
    "\n",
    "plt.tight_layout()\n",
    "plt.show()\n"
   ]
  },
  {
   "cell_type": "markdown",
   "metadata": {},
   "source": [
    "# Experiment 3"
   ]
  },
  {
   "cell_type": "markdown",
   "metadata": {},
   "source": [
    "**Conditions:**\n",
    "\n",
    "- Sliding window: 7 days\n",
    "\n",
    "- Shift days: 3 days"
   ]
  },
  {
   "cell_type": "markdown",
   "metadata": {},
   "source": [
    "## Hyperparameters and Preprocessing"
   ]
  },
  {
   "cell_type": "markdown",
   "metadata": {},
   "source": [
    "### Hyperparameters"
   ]
  },
  {
   "cell_type": "code",
   "execution_count": 35,
   "metadata": {},
   "outputs": [],
   "source": [
    "SEQUENCE_LENGTH = 7 # how large our window is\n",
    "TEST_SIZE = 0.2\n",
    "EPOCHS = 20\n",
    "BATCH_SIZE = 20\n",
    "SHIFT_DAYS = 3 # how far ahead we want to predict market crashes"
   ]
  },
  {
   "cell_type": "markdown",
   "metadata": {},
   "source": [
    "### Preprocessing"
   ]
  },
  {
   "cell_type": "code",
   "execution_count": 36,
   "metadata": {},
   "outputs": [],
   "source": [
    "# prep the data\n",
    "for ticker, data in dfs.items():\n",
    "    data = calculate_drawdown_and_label(data) # get the drawdown for our data\n",
    "    data = prepare_target(data, SHIFT_DAYS)\n",
    "    dfs[ticker] = data\n",
    "\n",
    "# now we process our data, here we do as if we had multiple tickers, in case we add more later\n",
    "sequence_length = SEQUENCE_LENGTH # hyperparameter for the length of the window. 15 is completely arbirtrary here, need to adjust to get better or worst results.\n",
    "X = {} # data of all the tickers\n",
    "y = {} # labels of all the tickers\n",
    "scalers = {} # scalers of all the tickers\n",
    "for ticker, data in dfs.items(): #iterate through each ticker, datapoint and the dataframes (dfs) we got from yf, and preprocess them then add them to the dictionnary\n",
    "    X[ticker], y[ticker], scalers[ticker] = preprocess_data(data, sequence_length=sequence_length) \n",
    "\n",
    "# Combine data from all our tickers, joining them on axis 0 i.e. we want to concatenate all the rows together\n",
    "X_all = np.concatenate([X[ticker] for ticker in X], axis=0)\n",
    "y_all = np.concatenate([y[ticker] for ticker in y], axis=0) # same thing for labels\n",
    "\n",
    "# give 20% as test size, 80% for our training data. this functino was found in the tutorial ipynb\n",
    "X_train, X_test, y_train, y_test = train_test_split(X_all, y_all, test_size=TEST_SIZE, random_state=42)\n",
    "# NOTE: chatgpt helped me for the input_shape\n",
    "input_shape = (X_train.shape[1], X_train.shape[2]) # recall X_train is (batch_size, sequence_length, 3 (for 3 features for now)), here we give the batch size and the sequence length"
   ]
  },
  {
   "cell_type": "markdown",
   "metadata": {},
   "source": [
    "## Training"
   ]
  },
  {
   "cell_type": "markdown",
   "metadata": {},
   "source": [
    "### RNN"
   ]
  },
  {
   "cell_type": "code",
   "execution_count": 37,
   "metadata": {},
   "outputs": [
    {
     "name": "stdout",
     "output_type": "stream",
     "text": [
      "Epoch 1/20\n",
      "\u001b[1m974/974\u001b[0m \u001b[32m━━━━━━━━━━━━━━━━━━━━\u001b[0m\u001b[37m\u001b[0m \u001b[1m6s\u001b[0m 4ms/step - accuracy: 0.9835 - loss: 0.0622 - val_accuracy: 0.9967 - val_loss: 0.0079\n",
      "Epoch 2/20\n",
      "\u001b[1m974/974\u001b[0m \u001b[32m━━━━━━━━━━━━━━━━━━━━\u001b[0m\u001b[37m\u001b[0m \u001b[1m4s\u001b[0m 4ms/step - accuracy: 0.9975 - loss: 0.0076 - val_accuracy: 0.9965 - val_loss: 0.0117\n",
      "Epoch 3/20\n",
      "\u001b[1m974/974\u001b[0m \u001b[32m━━━━━━━━━━━━━━━━━━━━\u001b[0m\u001b[37m\u001b[0m \u001b[1m4s\u001b[0m 4ms/step - accuracy: 0.9973 - loss: 0.0066 - val_accuracy: 0.9984 - val_loss: 0.0050\n",
      "Epoch 4/20\n",
      "\u001b[1m974/974\u001b[0m \u001b[32m━━━━━━━━━━━━━━━━━━━━\u001b[0m\u001b[37m\u001b[0m \u001b[1m4s\u001b[0m 4ms/step - accuracy: 0.9981 - loss: 0.0052 - val_accuracy: 0.9967 - val_loss: 0.0108\n",
      "Epoch 5/20\n",
      "\u001b[1m974/974\u001b[0m \u001b[32m━━━━━━━━━━━━━━━━━━━━\u001b[0m\u001b[37m\u001b[0m \u001b[1m4s\u001b[0m 4ms/step - accuracy: 0.9980 - loss: 0.0057 - val_accuracy: 0.9984 - val_loss: 0.0052\n",
      "Epoch 6/20\n",
      "\u001b[1m974/974\u001b[0m \u001b[32m━━━━━━━━━━━━━━━━━━━━\u001b[0m\u001b[37m\u001b[0m \u001b[1m4s\u001b[0m 4ms/step - accuracy: 0.9974 - loss: 0.0058 - val_accuracy: 0.9984 - val_loss: 0.0047\n",
      "Epoch 7/20\n",
      "\u001b[1m974/974\u001b[0m \u001b[32m━━━━━━━━━━━━━━━━━━━━\u001b[0m\u001b[37m\u001b[0m \u001b[1m4s\u001b[0m 4ms/step - accuracy: 0.9980 - loss: 0.0051 - val_accuracy: 0.9986 - val_loss: 0.0046\n",
      "Epoch 8/20\n",
      "\u001b[1m974/974\u001b[0m \u001b[32m━━━━━━━━━━━━━━━━━━━━\u001b[0m\u001b[37m\u001b[0m \u001b[1m4s\u001b[0m 4ms/step - accuracy: 0.9982 - loss: 0.0047 - val_accuracy: 0.9986 - val_loss: 0.0045\n",
      "Epoch 9/20\n",
      "\u001b[1m974/974\u001b[0m \u001b[32m━━━━━━━━━━━━━━━━━━━━\u001b[0m\u001b[37m\u001b[0m \u001b[1m4s\u001b[0m 4ms/step - accuracy: 0.9977 - loss: 0.0051 - val_accuracy: 0.9984 - val_loss: 0.0044\n",
      "Epoch 10/20\n",
      "\u001b[1m974/974\u001b[0m \u001b[32m━━━━━━━━━━━━━━━━━━━━\u001b[0m\u001b[37m\u001b[0m \u001b[1m4s\u001b[0m 4ms/step - accuracy: 0.9983 - loss: 0.0049 - val_accuracy: 0.9984 - val_loss: 0.0043\n",
      "Epoch 11/20\n",
      "\u001b[1m974/974\u001b[0m \u001b[32m━━━━━━━━━━━━━━━━━━━━\u001b[0m\u001b[37m\u001b[0m \u001b[1m4s\u001b[0m 4ms/step - accuracy: 0.9987 - loss: 0.0039 - val_accuracy: 0.9984 - val_loss: 0.0043\n",
      "Epoch 12/20\n",
      "\u001b[1m974/974\u001b[0m \u001b[32m━━━━━━━━━━━━━━━━━━━━\u001b[0m\u001b[37m\u001b[0m \u001b[1m4s\u001b[0m 4ms/step - accuracy: 0.9984 - loss: 0.0035 - val_accuracy: 0.9984 - val_loss: 0.0044\n",
      "Epoch 13/20\n",
      "\u001b[1m974/974\u001b[0m \u001b[32m━━━━━━━━━━━━━━━━━━━━\u001b[0m\u001b[37m\u001b[0m \u001b[1m4s\u001b[0m 4ms/step - accuracy: 0.9983 - loss: 0.0040 - val_accuracy: 0.9988 - val_loss: 0.0040\n",
      "Epoch 14/20\n",
      "\u001b[1m974/974\u001b[0m \u001b[32m━━━━━━━━━━━━━━━━━━━━\u001b[0m\u001b[37m\u001b[0m \u001b[1m4s\u001b[0m 4ms/step - accuracy: 0.9986 - loss: 0.0034 - val_accuracy: 0.9986 - val_loss: 0.0042\n",
      "Epoch 15/20\n",
      "\u001b[1m974/974\u001b[0m \u001b[32m━━━━━━━━━━━━━━━━━━━━\u001b[0m\u001b[37m\u001b[0m \u001b[1m4s\u001b[0m 4ms/step - accuracy: 0.9983 - loss: 0.0043 - val_accuracy: 0.9986 - val_loss: 0.0041\n",
      "Epoch 16/20\n",
      "\u001b[1m974/974\u001b[0m \u001b[32m━━━━━━━━━━━━━━━━━━━━\u001b[0m\u001b[37m\u001b[0m \u001b[1m4s\u001b[0m 4ms/step - accuracy: 0.9988 - loss: 0.0035 - val_accuracy: 0.9988 - val_loss: 0.0041\n",
      "Epoch 17/20\n",
      "\u001b[1m974/974\u001b[0m \u001b[32m━━━━━━━━━━━━━━━━━━━━\u001b[0m\u001b[37m\u001b[0m \u001b[1m4s\u001b[0m 4ms/step - accuracy: 0.9986 - loss: 0.0039 - val_accuracy: 0.9990 - val_loss: 0.0036\n",
      "Epoch 18/20\n",
      "\u001b[1m974/974\u001b[0m \u001b[32m━━━━━━━━━━━━━━━━━━━━\u001b[0m\u001b[37m\u001b[0m \u001b[1m4s\u001b[0m 4ms/step - accuracy: 0.9985 - loss: 0.0040 - val_accuracy: 0.9984 - val_loss: 0.0042\n",
      "Epoch 19/20\n",
      "\u001b[1m974/974\u001b[0m \u001b[32m━━━━━━━━━━━━━━━━━━━━\u001b[0m\u001b[37m\u001b[0m \u001b[1m4s\u001b[0m 4ms/step - accuracy: 0.9985 - loss: 0.0038 - val_accuracy: 0.9984 - val_loss: 0.0050\n",
      "Epoch 20/20\n",
      "\u001b[1m974/974\u001b[0m \u001b[32m━━━━━━━━━━━━━━━━━━━━\u001b[0m\u001b[37m\u001b[0m \u001b[1m4s\u001b[0m 4ms/step - accuracy: 0.9985 - loss: 0.0036 - val_accuracy: 0.9982 - val_loss: 0.0039\n",
      "\u001b[1m153/153\u001b[0m \u001b[32m━━━━━━━━━━━━━━━━━━━━\u001b[0m\u001b[37m\u001b[0m \u001b[1m1s\u001b[0m 3ms/step\n",
      "Test Accuracy: 0.9981515711645101\n"
     ]
    }
   ],
   "source": [
    "exp_3_rnn_trained_model = rnn_model(input_shape) # build our model with our function from before\n",
    "\n",
    "exp_3_rnn_trained_model.fit(X_train, y_train, epochs=EPOCHS, batch_size=BATCH_SIZE, validation_data=(X_test, y_test)) # train our model. relatively large batch size considering we dont have much data, but im getting pretty good accuracy. we use our test data for validation, arguably not great but were not using for early stopping so I guess its ok\n",
    "\n",
    "##### GET ACCURACY AND CONFUSION MATRIX #####\n",
    "exp_3_rnn_predictions_as_probabilities = exp_3_rnn_trained_model.predict(X_test)\n",
    "exp_3_rnn_predictions_as_classes = (exp_3_rnn_predictions_as_probabilities > 0.5).astype(int) # make our predictions binary, a simple scaler that puts values higher than 0.5 to 1 and lower 0. astypeint to return 0 and 1 instead of true false array.\n",
    "exp_3_rnn_accuracy = accuracy_score(y_test, exp_3_rnn_predictions_as_classes) # calculate our accuracy\n",
    "\n",
    "exp_3_rnn_confusion_matrix_var = confusion_matrix(y_test, exp_3_rnn_predictions_as_classes) # plot the confusion matrix\n",
    "#############################################\n",
    "\n",
    "\n",
    "### FINAL ACCURACY\n",
    "print(f\"Test Accuracy: {exp_3_rnn_accuracy}\") # print our final accuracy"
   ]
  },
  {
   "cell_type": "markdown",
   "metadata": {},
   "source": [
    "### Transformers"
   ]
  },
  {
   "cell_type": "code",
   "execution_count": 38,
   "metadata": {},
   "outputs": [
    {
     "name": "stdout",
     "output_type": "stream",
     "text": [
      "Epoch 1/20\n",
      "\u001b[1m974/974\u001b[0m \u001b[32m━━━━━━━━━━━━━━━━━━━━\u001b[0m\u001b[37m\u001b[0m \u001b[1m5s\u001b[0m 4ms/step - accuracy: 0.9811 - loss: 0.0481 - val_accuracy: 0.9979 - val_loss: 0.0051\n",
      "Epoch 2/20\n",
      "\u001b[1m974/974\u001b[0m \u001b[32m━━━━━━━━━━━━━━━━━━━━\u001b[0m\u001b[37m\u001b[0m \u001b[1m3s\u001b[0m 3ms/step - accuracy: 0.9961 - loss: 0.0087 - val_accuracy: 0.9967 - val_loss: 0.0074\n",
      "Epoch 3/20\n",
      "\u001b[1m974/974\u001b[0m \u001b[32m━━━━━━━━━━━━━━━━━━━━\u001b[0m\u001b[37m\u001b[0m \u001b[1m3s\u001b[0m 3ms/step - accuracy: 0.9978 - loss: 0.0064 - val_accuracy: 0.9986 - val_loss: 0.0042\n",
      "Epoch 4/20\n",
      "\u001b[1m974/974\u001b[0m \u001b[32m━━━━━━━━━━━━━━━━━━━━\u001b[0m\u001b[37m\u001b[0m \u001b[1m3s\u001b[0m 3ms/step - accuracy: 0.9979 - loss: 0.0057 - val_accuracy: 0.9986 - val_loss: 0.0050\n",
      "Epoch 5/20\n",
      "\u001b[1m974/974\u001b[0m \u001b[32m━━━━━━━━━━━━━━━━━━━━\u001b[0m\u001b[37m\u001b[0m \u001b[1m3s\u001b[0m 3ms/step - accuracy: 0.9975 - loss: 0.0056 - val_accuracy: 0.9986 - val_loss: 0.0041\n",
      "Epoch 6/20\n",
      "\u001b[1m974/974\u001b[0m \u001b[32m━━━━━━━━━━━━━━━━━━━━\u001b[0m\u001b[37m\u001b[0m \u001b[1m3s\u001b[0m 3ms/step - accuracy: 0.9979 - loss: 0.0051 - val_accuracy: 0.9965 - val_loss: 0.0072\n",
      "Epoch 7/20\n",
      "\u001b[1m974/974\u001b[0m \u001b[32m━━━━━━━━━━━━━━━━━━━━\u001b[0m\u001b[37m\u001b[0m \u001b[1m3s\u001b[0m 3ms/step - accuracy: 0.9982 - loss: 0.0044 - val_accuracy: 0.9988 - val_loss: 0.0043\n",
      "Epoch 8/20\n",
      "\u001b[1m974/974\u001b[0m \u001b[32m━━━━━━━━━━━━━━━━━━━━\u001b[0m\u001b[37m\u001b[0m \u001b[1m3s\u001b[0m 3ms/step - accuracy: 0.9985 - loss: 0.0043 - val_accuracy: 0.9992 - val_loss: 0.0038\n",
      "Epoch 9/20\n",
      "\u001b[1m974/974\u001b[0m \u001b[32m━━━━━━━━━━━━━━━━━━━━\u001b[0m\u001b[37m\u001b[0m \u001b[1m3s\u001b[0m 3ms/step - accuracy: 0.9978 - loss: 0.0055 - val_accuracy: 0.9988 - val_loss: 0.0036\n",
      "Epoch 10/20\n",
      "\u001b[1m974/974\u001b[0m \u001b[32m━━━━━━━━━━━━━━━━━━━━\u001b[0m\u001b[37m\u001b[0m \u001b[1m3s\u001b[0m 3ms/step - accuracy: 0.9978 - loss: 0.0056 - val_accuracy: 0.9975 - val_loss: 0.0058\n",
      "Epoch 11/20\n",
      "\u001b[1m974/974\u001b[0m \u001b[32m━━━━━━━━━━━━━━━━━━━━\u001b[0m\u001b[37m\u001b[0m \u001b[1m3s\u001b[0m 3ms/step - accuracy: 0.9978 - loss: 0.0046 - val_accuracy: 0.9979 - val_loss: 0.0044\n",
      "Epoch 12/20\n",
      "\u001b[1m974/974\u001b[0m \u001b[32m━━━━━━━━━━━━━━━━━━━━\u001b[0m\u001b[37m\u001b[0m \u001b[1m3s\u001b[0m 3ms/step - accuracy: 0.9986 - loss: 0.0040 - val_accuracy: 0.9986 - val_loss: 0.0039\n",
      "Epoch 13/20\n",
      "\u001b[1m974/974\u001b[0m \u001b[32m━━━━━━━━━━━━━━━━━━━━\u001b[0m\u001b[37m\u001b[0m \u001b[1m3s\u001b[0m 3ms/step - accuracy: 0.9976 - loss: 0.0056 - val_accuracy: 0.9969 - val_loss: 0.0055\n",
      "Epoch 14/20\n",
      "\u001b[1m974/974\u001b[0m \u001b[32m━━━━━━━━━━━━━━━━━━━━\u001b[0m\u001b[37m\u001b[0m \u001b[1m3s\u001b[0m 3ms/step - accuracy: 0.9981 - loss: 0.0050 - val_accuracy: 0.9982 - val_loss: 0.0049\n",
      "Epoch 15/20\n",
      "\u001b[1m974/974\u001b[0m \u001b[32m━━━━━━━━━━━━━━━━━━━━\u001b[0m\u001b[37m\u001b[0m \u001b[1m3s\u001b[0m 3ms/step - accuracy: 0.9983 - loss: 0.0040 - val_accuracy: 0.9971 - val_loss: 0.0073\n",
      "Epoch 16/20\n",
      "\u001b[1m974/974\u001b[0m \u001b[32m━━━━━━━━━━━━━━━━━━━━\u001b[0m\u001b[37m\u001b[0m \u001b[1m3s\u001b[0m 3ms/step - accuracy: 0.9983 - loss: 0.0046 - val_accuracy: 0.9969 - val_loss: 0.0048\n",
      "Epoch 17/20\n",
      "\u001b[1m974/974\u001b[0m \u001b[32m━━━━━━━━━━━━━━━━━━━━\u001b[0m\u001b[37m\u001b[0m \u001b[1m3s\u001b[0m 3ms/step - accuracy: 0.9986 - loss: 0.0038 - val_accuracy: 0.9984 - val_loss: 0.0038\n",
      "Epoch 18/20\n",
      "\u001b[1m974/974\u001b[0m \u001b[32m━━━━━━━━━━━━━━━━━━━━\u001b[0m\u001b[37m\u001b[0m \u001b[1m3s\u001b[0m 3ms/step - accuracy: 0.9981 - loss: 0.0043 - val_accuracy: 0.9988 - val_loss: 0.0036\n",
      "Epoch 19/20\n",
      "\u001b[1m974/974\u001b[0m \u001b[32m━━━━━━━━━━━━━━━━━━━━\u001b[0m\u001b[37m\u001b[0m \u001b[1m3s\u001b[0m 3ms/step - accuracy: 0.9984 - loss: 0.0042 - val_accuracy: 0.9990 - val_loss: 0.0030\n",
      "Epoch 20/20\n",
      "\u001b[1m974/974\u001b[0m \u001b[32m━━━━━━━━━━━━━━━━━━━━\u001b[0m\u001b[37m\u001b[0m \u001b[1m3s\u001b[0m 3ms/step - accuracy: 0.9985 - loss: 0.0040 - val_accuracy: 0.9984 - val_loss: 0.0037\n",
      "\u001b[1m153/153\u001b[0m \u001b[32m━━━━━━━━━━━━━━━━━━━━\u001b[0m\u001b[37m\u001b[0m \u001b[1m0s\u001b[0m 2ms/step\n",
      "Transformers EXP 1 Accuracy: 0.9983569521462312\n"
     ]
    }
   ],
   "source": [
    "exp_3_transformer_trained_model = transformer_model(input_shape)\n",
    "exp_3_transformer_trained_model.fit(X_train, y_train, epochs=EPOCHS, batch_size=BATCH_SIZE, validation_data=(X_test, y_test))\n",
    "\n",
    "exp_3_transformer_predictions_as_probabilities = exp_3_transformer_trained_model.predict(X_test)\n",
    "exp_3_transformer_predictions_as_classes = (exp_3_transformer_predictions_as_probabilities > 0.5).astype(int)\n",
    "\n",
    "exp_3_transformer_accuracy = accuracy_score(y_test, exp_3_transformer_predictions_as_classes)\n",
    "exp_3_transformer_confusion_matrix_var = confusion_matrix(y_test, exp_3_transformer_predictions_as_classes)\n",
    "\n",
    "print(f\"Transformers EXP 1 Accuracy: {exp_3_transformer_accuracy}\")"
   ]
  },
  {
   "cell_type": "markdown",
   "metadata": {},
   "source": [
    "### ARIMA"
   ]
  },
  {
   "cell_type": "code",
   "execution_count": 39,
   "metadata": {},
   "outputs": [
    {
     "name": "stdout",
     "output_type": "stream",
     "text": [
      "Hyperparameter: p=0, d=1, q=0\n",
      "Accuracy: 0.07875796833230517\n",
      "Hyperparameter: p=0, d=1, q=1\n",
      "Accuracy: 0.42196175200493524\n",
      "Hyperparameter: p=0, d=1, q=2\n",
      "Accuracy: 0.4610322845979848\n",
      "Hyperparameter: p=0, d=1, q=3\n",
      "Accuracy: 0.39625745424635\n",
      "Hyperparameter: p=0, d=1, q=4\n",
      "Accuracy: 0.42504626773596543\n",
      "Hyperparameter: p=0, d=1, q=5\n",
      "Accuracy: 0.44951675920213857\n",
      "Hyperparameter: p=0, d=2, q=0\n",
      "Accuracy: 0.09520871889779971\n",
      "Hyperparameter: p=0, d=2, q=1\n",
      "Accuracy: 0.4538350812255809\n",
      "Hyperparameter: p=0, d=2, q=2\n",
      "Accuracy: 0.45589142504626773\n",
      "Hyperparameter: p=0, d=2, q=3\n",
      "Accuracy: 0.3972856261566934\n",
      "Hyperparameter: p=0, d=2, q=4\n",
      "Accuracy: 0.42525190211803415\n",
      "Hyperparameter: p=0, d=2, q=5\n",
      "Accuracy: 0.4530125436973062\n",
      "Hyperparameter: p=1, d=1, q=0\n",
      "Accuracy: 0.121529919802591\n",
      "Hyperparameter: p=1, d=1, q=1\n",
      "Accuracy: 0.42319555829734734\n",
      "Hyperparameter: p=1, d=1, q=2\n",
      "Accuracy: 0.44663787785317705\n",
      "Hyperparameter: p=1, d=1, q=3\n",
      "Accuracy: 0.3925560353691137\n",
      "Hyperparameter: p=1, d=1, q=4\n",
      "Accuracy: 0.42504626773596543\n",
      "Hyperparameter: p=1, d=1, q=5\n",
      "Accuracy: 0.450544931112482\n",
      "Hyperparameter: p=1, d=2, q=0\n",
      "Accuracy: 0.11371581328398109\n",
      "Hyperparameter: p=1, d=2, q=1\n",
      "Accuracy: 0.45342381246144353\n",
      "Hyperparameter: p=1, d=2, q=2\n",
      "Accuracy: 0.455068887517993\n",
      "Hyperparameter: p=1, d=2, q=3\n",
      "Accuracy: 0.39646308862841867\n",
      "Hyperparameter: p=1, d=2, q=4\n",
      "Accuracy: 0.42751388032078963\n",
      "Hyperparameter: p=1, d=2, q=5\n",
      "Accuracy: 0.4540407156076496\n",
      "Hyperparameter: p=2, d=1, q=0\n",
      "Accuracy: 0.09171293440263212\n",
      "Hyperparameter: p=2, d=1, q=1\n",
      "Accuracy: 0.4225786551511413\n",
      "Hyperparameter: p=2, d=1, q=2\n",
      "Failed to fit ARIMA with p=2, d=1, q=2\n",
      "Hyperparameter: p=2, d=1, q=3\n",
      "Failed to fit ARIMA with p=2, d=1, q=3\n",
      "Hyperparameter: p=2, d=1, q=4\n",
      "Accuracy: 0.4254575365001028\n",
      "Hyperparameter: p=2, d=1, q=5\n",
      "Accuracy: 0.4528069093152375\n",
      "Hyperparameter: p=2, d=2, q=0\n",
      "Accuracy: 0.11268764137363767\n",
      "Hyperparameter: p=2, d=2, q=1\n",
      "Accuracy: 0.44992802796627596\n",
      "Hyperparameter: p=2, d=2, q=2\n",
      "Accuracy: 0.455068887517993\n",
      "Hyperparameter: p=2, d=2, q=3\n",
      "Accuracy: 0.3958461854822126\n",
      "Hyperparameter: p=2, d=2, q=4\n",
      "Accuracy: 0.42401809582562205\n",
      "Hyperparameter: p=2, d=2, q=5\n",
      "Accuracy: 0.45465761875385563\n",
      "\n",
      "Best hyperparameter: (0, 1, 2)\n",
      "Best Accuracy: 0.4610322845979848\n",
      "ARIMA Accuracy on EXP 1: 0.4610322845979848\n"
     ]
    }
   ],
   "source": [
    "###### Grid Search\n",
    "\n",
    "p, d, q = 0, 1, 0\n",
    "best_hyperparameter = (0, 1, 0)\n",
    "best_accuracy = 0\n",
    "\n",
    "try: \n",
    "    for p in range(3): \n",
    "        for d in range(1, 3):  \n",
    "            for q in range(6):  \n",
    "                try:\n",
    "                    print(f'Hyperparameter: p={p}, d={d}, q={q}')\n",
    "                    exp_3_predictions = forecast_arima(\n",
    "                        X_test, sequence_length=SEQUENCE_LENGTH, shift_days=SHIFT_DAYS, p=p, d=d, q=q\n",
    "                    )\n",
    "                    exp_3_predictions_as_classes = np.array(exp_3_predictions[:len(y_test)])\n",
    "                    accuracy = accuracy_score(y_test[:len(exp_3_predictions_as_classes)], exp_3_predictions_as_classes)\n",
    "                    print(f'Accuracy: {accuracy}')\n",
    "                    \n",
    "                    \n",
    "                    if accuracy > best_accuracy:\n",
    "                        best_hyperparameter = (p, d, q)\n",
    "                        best_accuracy = accuracy\n",
    "\n",
    "                except np.linalg.LinAlgError:  \n",
    "                    pass\n",
    "                    print(f'Failed to fit ARIMA with p={p}, d={d}, q={q}')\n",
    "                except Exception as e:  # Catch other unexpected errors\n",
    "                    print(f'Error with p={p}, d={d}, q={q}: {str(e)}')\n",
    "\n",
    "except Exception as e:\n",
    "    print(f\"Unexpected error occurred: {str(e)}\")\n",
    "\n",
    "print(f'\\nBest hyperparameter: {best_hyperparameter}')\n",
    "print(f'Best Accuracy: {best_accuracy}')\n",
    "\n",
    "\n",
    "#### Fitting the model with the best hyper parameters\n",
    "\n",
    "exp_3_arima_predictions = forecast_arima(X_test, sequence_length=SEQUENCE_LENGTH, shift_days=SHIFT_DAYS, p=best_hyperparameter[0], d=best_hyperparameter[1], q=best_hyperparameter[2])\n",
    "exp_3_arima_predictions_as_classes = np.array(exp_3_arima_predictions[:len(y_test)])\n",
    "\n",
    "exp_3_arima_accuracy = accuracy_score(y_test[:len(exp_3_arima_predictions)], exp_3_arima_predictions_as_classes)\n",
    "print(f'ARIMA Accuracy on EXP 1: {exp_3_arima_accuracy}')\n",
    "\n",
    "exp_3_arima_confusion_matrix_var = confusion_matrix(y_test[:len(exp_3_arima_predictions)], exp_3_arima_predictions)"
   ]
  },
  {
   "cell_type": "markdown",
   "metadata": {},
   "source": [
    "## Plots"
   ]
  },
  {
   "cell_type": "markdown",
   "metadata": {},
   "source": [
    "#### Data for plot"
   ]
  },
  {
   "cell_type": "code",
   "execution_count": 40,
   "metadata": {},
   "outputs": [],
   "source": [
    "## RNN\n",
    "exp_3_rnn_real_crashes = int(sum(y_test == 1)) # crashes in our test data\n",
    "exp_3_rnn_predicted_crashes = int((exp_3_rnn_predictions_as_classes == 1).sum()) # crashes are 1 in our predictions\n",
    "exp_3_rnn_predicted_correctly = int(exp_3_rnn_confusion_matrix_var[1, 1])  # tp in our confusion matrix\n",
    "exp_3_rnn_missed_crashes = int(exp_3_rnn_confusion_matrix_var[1, 0])  # fn in our confusion matrix\n",
    "exp_3_rnn_predicted_when_there_wasnt = int(exp_3_rnn_confusion_matrix_var[0, 1])  # fp in our confusion matrix\n",
    "\n",
    "## Transformers\n",
    "exp_3_transformer_real_crashes = int(sum(y_test == 1))\n",
    "exp_3_transformer_predicted_crashes = int((exp_3_transformer_predictions_as_classes == 1).sum())\n",
    "exp_3_transformer_predicted_correctly = int(exp_3_transformer_confusion_matrix_var[1, 1])\n",
    "exp_3_transformer_missed_crashes = int(exp_3_transformer_confusion_matrix_var[1, 0])\n",
    "exp_3_transformer_predicted_when_there_wasnt = int(exp_3_transformer_confusion_matrix_var[0, 1])\n",
    "\n",
    "## ARIMA\n",
    "\n",
    "exp_3_arima_real_crashes = int(sum(y_test == 1)) # crashes in our test data\n",
    "exp_3_arima_predicted_crashes = int((exp_3_arima_predictions_as_classes == 1).sum()) # crashes are 1 in our predictions\n",
    "exp_3_arima_predicted_correctly = int(exp_3_arima_confusion_matrix_var[1, 1])  # tp in our confusion matrix\n",
    "exp_3_arima_missed_crashes = int(exp_3_arima_confusion_matrix_var[1, 0])  # fn in our confusion matrix\n",
    "exp_3_arima_predicted_when_there_wasnt = int(exp_3_arima_confusion_matrix_var[0, 1])  # fp in our confusion matrix\n"
   ]
  },
  {
   "cell_type": "markdown",
   "metadata": {},
   "source": [
    "#### Plot"
   ]
  },
  {
   "cell_type": "code",
   "execution_count": 41,
   "metadata": {},
   "outputs": [
    {
     "data": {
      "image/png": "[encoded data removed]",
      "text/plain": [
       "<Figure size 1200x700 with 1 Axes>"
      ]
     },
     "metadata": {},
     "output_type": "display_data"
    }
   ],
   "source": [
    "import matplotlib.pyplot as plt\n",
    "import numpy as np\n",
    "\n",
    "# RNN data\n",
    "rnn_values = [\n",
    "    exp_3_rnn_real_crashes,\n",
    "    exp_3_rnn_predicted_crashes,\n",
    "    exp_3_rnn_predicted_correctly,\n",
    "    exp_3_rnn_missed_crashes,\n",
    "    exp_3_rnn_predicted_when_there_wasnt\n",
    "]\n",
    "\n",
    "# Transformer data\n",
    "transformer_values = [\n",
    "    exp_3_transformer_real_crashes,\n",
    "    exp_3_transformer_predicted_crashes,\n",
    "    exp_3_transformer_predicted_correctly,\n",
    "    exp_3_transformer_missed_crashes,\n",
    "    exp_3_transformer_predicted_when_there_wasnt\n",
    "]\n",
    "\n",
    "# ARIMA data\n",
    "arima_values = [\n",
    "    exp_3_arima_real_crashes,\n",
    "    exp_3_arima_predicted_crashes,\n",
    "    exp_3_arima_predicted_correctly,\n",
    "    exp_3_arima_missed_crashes,\n",
    "    exp_3_arima_predicted_when_there_wasnt\n",
    "]\n",
    "\n",
    "categories = [\n",
    "    \"Actual Crashes\",\n",
    "    \"Predicted Crashes\",\n",
    "    \"Correctly Predicted Crashes\",\n",
    "    \"Missed Crashes\",\n",
    "    \"False Alarms\"\n",
    "]\n",
    "\n",
    "\n",
    "x = np.arange(len(categories))  \n",
    "width = 0.25  \n",
    "\n",
    "\n",
    "fig, ax = plt.subplots(figsize=(12, 7))\n",
    "\n",
    "bars_rnn = ax.bar(x - width, rnn_values, width, label='RNN', color='orange')\n",
    "bars_transformer = ax.bar(x, transformer_values, width, label='Transformers', color='skyblue')\n",
    "bars_arima = ax.bar(x + width, arima_values, width, label='ARIMA', color='green')\n",
    "\n",
    "\n",
    "ax.set_ylabel('Number of Crashes')\n",
    "ax.set_title('Performance Comparison: RNN, Transformers, and ARIMA')\n",
    "ax.set_xticks(x)\n",
    "ax.set_xticklabels(categories)\n",
    "ax.legend()\n",
    "\n",
    "\n",
    "def add_labels(bars):\n",
    "    for bar in bars:\n",
    "        height = bar.get_height()\n",
    "        ax.annotate(f'{height}',\n",
    "                    xy=(bar.get_x() + bar.get_width() / 2, height),\n",
    "                    xytext=(0, 3),  \n",
    "                    textcoords=\"offset points\",\n",
    "                    ha='center', va='bottom', fontsize=10)\n",
    "\n",
    "add_labels(bars_rnn)\n",
    "add_labels(bars_transformer)\n",
    "add_labels(bars_arima)\n",
    "\n",
    "\n",
    "plt.tight_layout()\n",
    "plt.show()\n"
   ]
  }
 ],
 "metadata": {
  "kernelspec": {
   "display_name": "Python 3",
   "language": "python",
   "name": "python3"
  },
  "language_info": {
   "codemirror_mode": {
    "name": "ipython",
    "version": 3
   },
   "file_extension": ".py",
   "mimetype": "text/x-python",
   "name": "python",
   "nbconvert_exporter": "python",
   "pygments_lexer": "ipython3",
   "version": "3.10.7"
  }
 },
 "nbformat": 4,
 "nbformat_minor": 2
}
